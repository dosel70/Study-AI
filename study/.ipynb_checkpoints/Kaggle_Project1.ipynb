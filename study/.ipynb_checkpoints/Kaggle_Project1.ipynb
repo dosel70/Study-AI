{
 "cells": [
  {
   "cell_type": "code",
   "execution_count": 1,
   "id": "670b7fd8",
   "metadata": {
    "_cell_guid": "b1076dfc-b9ad-4769-8c92-a6c4dae69d19",
    "_uuid": "8f2839f25d086af736a60e9eeb907d3b93b6e0e5",
    "execution": {
     "iopub.execute_input": "2024-05-01T11:58:10.854873Z",
     "iopub.status.busy": "2024-05-01T11:58:10.854054Z",
     "iopub.status.idle": "2024-05-01T11:58:11.770860Z",
     "shell.execute_reply": "2024-05-01T11:58:11.769727Z"
    },
    "papermill": {
     "duration": 0.933079,
     "end_time": "2024-05-01T11:58:11.773451",
     "exception": false,
     "start_time": "2024-05-01T11:58:10.840372",
     "status": "completed"
    },
    "tags": []
   },
   "outputs": [
    {
     "name": "stdout",
     "output_type": "stream",
     "text": [
      "/kaggle/input/openintro-possum/possum.csv\n"
     ]
    }
   ],
   "source": [
    "# This Python 3 environment comes with many helpful analytics libraries installed\n",
    "# It is defined by the kaggle/python Docker image: https://github.com/kaggle/docker-python\n",
    "# For example, here's several helpful packages to load\n",
    "\n",
    "import numpy as np # linear algebra\n",
    "import pandas as pd # data processing, CSV file I/O (e.g. pd.read_csv)\n",
    "\n",
    "# Input data files are available in the read-only \"../input/\" directory\n",
    "# For example, running this (by clicking run or pressing Shift+Enter) will list all files under the input directory\n",
    "\n",
    "import os\n",
    "for dirname, _, filenames in os.walk('/kaggle/input'):\n",
    "    for filename in filenames:\n",
    "        print(os.path.join(dirname, filename))\n",
    "\n",
    "# You can write up to 20GB to the current directory (/kaggle/working/) that gets preserved as output when you create a version using \"Save & Run All\" \n",
    "# You can also write temporary files to /kaggle/temp/, but they won't be saved outside of the current session"
   ]
  },
  {
   "cell_type": "markdown",
   "id": "cefeaafe",
   "metadata": {
    "papermill": {
     "duration": 0.011203,
     "end_time": "2024-05-01T11:58:11.796863",
     "exception": false,
     "start_time": "2024-05-01T11:58:11.785660",
     "status": "completed"
    },
    "tags": []
   },
   "source": [
    "#### ✏️ **Let's analyze the total length**"
   ]
  },
  {
   "cell_type": "code",
   "execution_count": 2,
   "id": "9cd66da2",
   "metadata": {
    "execution": {
     "iopub.execute_input": "2024-05-01T11:58:11.822435Z",
     "iopub.status.busy": "2024-05-01T11:58:11.821630Z",
     "iopub.status.idle": "2024-05-01T11:58:11.876737Z",
     "shell.execute_reply": "2024-05-01T11:58:11.875958Z"
    },
    "papermill": {
     "duration": 0.070553,
     "end_time": "2024-05-01T11:58:11.879105",
     "exception": false,
     "start_time": "2024-05-01T11:58:11.808552",
     "status": "completed"
    },
    "tags": []
   },
   "outputs": [
    {
     "data": {
      "text/html": [
       "<div>\n",
       "<style scoped>\n",
       "    .dataframe tbody tr th:only-of-type {\n",
       "        vertical-align: middle;\n",
       "    }\n",
       "\n",
       "    .dataframe tbody tr th {\n",
       "        vertical-align: top;\n",
       "    }\n",
       "\n",
       "    .dataframe thead th {\n",
       "        text-align: right;\n",
       "    }\n",
       "</style>\n",
       "<table border=\"1\" class=\"dataframe\">\n",
       "  <thead>\n",
       "    <tr style=\"text-align: right;\">\n",
       "      <th></th>\n",
       "      <th>case</th>\n",
       "      <th>site</th>\n",
       "      <th>Pop</th>\n",
       "      <th>sex</th>\n",
       "      <th>age</th>\n",
       "      <th>hdlngth</th>\n",
       "      <th>skullw</th>\n",
       "      <th>totlngth</th>\n",
       "      <th>taill</th>\n",
       "      <th>footlgth</th>\n",
       "      <th>earconch</th>\n",
       "      <th>eye</th>\n",
       "      <th>chest</th>\n",
       "      <th>belly</th>\n",
       "    </tr>\n",
       "  </thead>\n",
       "  <tbody>\n",
       "    <tr>\n",
       "      <th>0</th>\n",
       "      <td>1</td>\n",
       "      <td>1</td>\n",
       "      <td>Vic</td>\n",
       "      <td>m</td>\n",
       "      <td>8.0</td>\n",
       "      <td>94.1</td>\n",
       "      <td>60.4</td>\n",
       "      <td>89.0</td>\n",
       "      <td>36.0</td>\n",
       "      <td>74.5</td>\n",
       "      <td>54.5</td>\n",
       "      <td>15.2</td>\n",
       "      <td>28.0</td>\n",
       "      <td>36.0</td>\n",
       "    </tr>\n",
       "    <tr>\n",
       "      <th>1</th>\n",
       "      <td>2</td>\n",
       "      <td>1</td>\n",
       "      <td>Vic</td>\n",
       "      <td>f</td>\n",
       "      <td>6.0</td>\n",
       "      <td>92.5</td>\n",
       "      <td>57.6</td>\n",
       "      <td>91.5</td>\n",
       "      <td>36.5</td>\n",
       "      <td>72.5</td>\n",
       "      <td>51.2</td>\n",
       "      <td>16.0</td>\n",
       "      <td>28.5</td>\n",
       "      <td>33.0</td>\n",
       "    </tr>\n",
       "    <tr>\n",
       "      <th>2</th>\n",
       "      <td>3</td>\n",
       "      <td>1</td>\n",
       "      <td>Vic</td>\n",
       "      <td>f</td>\n",
       "      <td>6.0</td>\n",
       "      <td>94.0</td>\n",
       "      <td>60.0</td>\n",
       "      <td>95.5</td>\n",
       "      <td>39.0</td>\n",
       "      <td>75.4</td>\n",
       "      <td>51.9</td>\n",
       "      <td>15.5</td>\n",
       "      <td>30.0</td>\n",
       "      <td>34.0</td>\n",
       "    </tr>\n",
       "    <tr>\n",
       "      <th>3</th>\n",
       "      <td>4</td>\n",
       "      <td>1</td>\n",
       "      <td>Vic</td>\n",
       "      <td>f</td>\n",
       "      <td>6.0</td>\n",
       "      <td>93.2</td>\n",
       "      <td>57.1</td>\n",
       "      <td>92.0</td>\n",
       "      <td>38.0</td>\n",
       "      <td>76.1</td>\n",
       "      <td>52.2</td>\n",
       "      <td>15.2</td>\n",
       "      <td>28.0</td>\n",
       "      <td>34.0</td>\n",
       "    </tr>\n",
       "    <tr>\n",
       "      <th>4</th>\n",
       "      <td>5</td>\n",
       "      <td>1</td>\n",
       "      <td>Vic</td>\n",
       "      <td>f</td>\n",
       "      <td>2.0</td>\n",
       "      <td>91.5</td>\n",
       "      <td>56.3</td>\n",
       "      <td>85.5</td>\n",
       "      <td>36.0</td>\n",
       "      <td>71.0</td>\n",
       "      <td>53.2</td>\n",
       "      <td>15.1</td>\n",
       "      <td>28.5</td>\n",
       "      <td>33.0</td>\n",
       "    </tr>\n",
       "    <tr>\n",
       "      <th>...</th>\n",
       "      <td>...</td>\n",
       "      <td>...</td>\n",
       "      <td>...</td>\n",
       "      <td>...</td>\n",
       "      <td>...</td>\n",
       "      <td>...</td>\n",
       "      <td>...</td>\n",
       "      <td>...</td>\n",
       "      <td>...</td>\n",
       "      <td>...</td>\n",
       "      <td>...</td>\n",
       "      <td>...</td>\n",
       "      <td>...</td>\n",
       "      <td>...</td>\n",
       "    </tr>\n",
       "    <tr>\n",
       "      <th>99</th>\n",
       "      <td>100</td>\n",
       "      <td>7</td>\n",
       "      <td>other</td>\n",
       "      <td>m</td>\n",
       "      <td>1.0</td>\n",
       "      <td>89.5</td>\n",
       "      <td>56.0</td>\n",
       "      <td>81.5</td>\n",
       "      <td>36.5</td>\n",
       "      <td>66.0</td>\n",
       "      <td>46.8</td>\n",
       "      <td>14.8</td>\n",
       "      <td>23.0</td>\n",
       "      <td>27.0</td>\n",
       "    </tr>\n",
       "    <tr>\n",
       "      <th>100</th>\n",
       "      <td>101</td>\n",
       "      <td>7</td>\n",
       "      <td>other</td>\n",
       "      <td>m</td>\n",
       "      <td>1.0</td>\n",
       "      <td>88.6</td>\n",
       "      <td>54.7</td>\n",
       "      <td>82.5</td>\n",
       "      <td>39.0</td>\n",
       "      <td>64.4</td>\n",
       "      <td>48.0</td>\n",
       "      <td>14.0</td>\n",
       "      <td>25.0</td>\n",
       "      <td>33.0</td>\n",
       "    </tr>\n",
       "    <tr>\n",
       "      <th>101</th>\n",
       "      <td>102</td>\n",
       "      <td>7</td>\n",
       "      <td>other</td>\n",
       "      <td>f</td>\n",
       "      <td>6.0</td>\n",
       "      <td>92.4</td>\n",
       "      <td>55.0</td>\n",
       "      <td>89.0</td>\n",
       "      <td>38.0</td>\n",
       "      <td>63.5</td>\n",
       "      <td>45.4</td>\n",
       "      <td>13.0</td>\n",
       "      <td>25.0</td>\n",
       "      <td>30.0</td>\n",
       "    </tr>\n",
       "    <tr>\n",
       "      <th>102</th>\n",
       "      <td>103</td>\n",
       "      <td>7</td>\n",
       "      <td>other</td>\n",
       "      <td>m</td>\n",
       "      <td>4.0</td>\n",
       "      <td>91.5</td>\n",
       "      <td>55.2</td>\n",
       "      <td>82.5</td>\n",
       "      <td>36.5</td>\n",
       "      <td>62.9</td>\n",
       "      <td>45.9</td>\n",
       "      <td>15.4</td>\n",
       "      <td>25.0</td>\n",
       "      <td>29.0</td>\n",
       "    </tr>\n",
       "    <tr>\n",
       "      <th>103</th>\n",
       "      <td>104</td>\n",
       "      <td>7</td>\n",
       "      <td>other</td>\n",
       "      <td>f</td>\n",
       "      <td>3.0</td>\n",
       "      <td>93.6</td>\n",
       "      <td>59.9</td>\n",
       "      <td>89.0</td>\n",
       "      <td>40.0</td>\n",
       "      <td>67.6</td>\n",
       "      <td>46.0</td>\n",
       "      <td>14.8</td>\n",
       "      <td>28.5</td>\n",
       "      <td>33.5</td>\n",
       "    </tr>\n",
       "  </tbody>\n",
       "</table>\n",
       "<p>104 rows × 14 columns</p>\n",
       "</div>"
      ],
      "text/plain": [
       "     case  site    Pop sex  age  hdlngth  skullw  totlngth  taill  footlgth  \\\n",
       "0       1     1    Vic   m  8.0     94.1    60.4      89.0   36.0      74.5   \n",
       "1       2     1    Vic   f  6.0     92.5    57.6      91.5   36.5      72.5   \n",
       "2       3     1    Vic   f  6.0     94.0    60.0      95.5   39.0      75.4   \n",
       "3       4     1    Vic   f  6.0     93.2    57.1      92.0   38.0      76.1   \n",
       "4       5     1    Vic   f  2.0     91.5    56.3      85.5   36.0      71.0   \n",
       "..    ...   ...    ...  ..  ...      ...     ...       ...    ...       ...   \n",
       "99    100     7  other   m  1.0     89.5    56.0      81.5   36.5      66.0   \n",
       "100   101     7  other   m  1.0     88.6    54.7      82.5   39.0      64.4   \n",
       "101   102     7  other   f  6.0     92.4    55.0      89.0   38.0      63.5   \n",
       "102   103     7  other   m  4.0     91.5    55.2      82.5   36.5      62.9   \n",
       "103   104     7  other   f  3.0     93.6    59.9      89.0   40.0      67.6   \n",
       "\n",
       "     earconch   eye  chest  belly  \n",
       "0        54.5  15.2   28.0   36.0  \n",
       "1        51.2  16.0   28.5   33.0  \n",
       "2        51.9  15.5   30.0   34.0  \n",
       "3        52.2  15.2   28.0   34.0  \n",
       "4        53.2  15.1   28.5   33.0  \n",
       "..        ...   ...    ...    ...  \n",
       "99       46.8  14.8   23.0   27.0  \n",
       "100      48.0  14.0   25.0   33.0  \n",
       "101      45.4  13.0   25.0   30.0  \n",
       "102      45.9  15.4   25.0   29.0  \n",
       "103      46.0  14.8   28.5   33.5  \n",
       "\n",
       "[104 rows x 14 columns]"
      ]
     },
     "execution_count": 2,
     "metadata": {},
     "output_type": "execute_result"
    }
   ],
   "source": [
    "df = pd.read_csv('/kaggle/input/openintro-possum/possum.csv')\n",
    "df"
   ]
  },
  {
   "cell_type": "code",
   "execution_count": 3,
   "id": "ad3316f6",
   "metadata": {
    "execution": {
     "iopub.execute_input": "2024-05-01T11:58:11.905316Z",
     "iopub.status.busy": "2024-05-01T11:58:11.904627Z",
     "iopub.status.idle": "2024-05-01T11:58:11.918124Z",
     "shell.execute_reply": "2024-05-01T11:58:11.917117Z"
    },
    "papermill": {
     "duration": 0.028927,
     "end_time": "2024-05-01T11:58:11.920266",
     "exception": false,
     "start_time": "2024-05-01T11:58:11.891339",
     "status": "completed"
    },
    "tags": []
   },
   "outputs": [
    {
     "data": {
      "text/plain": [
       "case        0\n",
       "site        0\n",
       "Pop         0\n",
       "sex         0\n",
       "age         2\n",
       "hdlngth     0\n",
       "skullw      0\n",
       "totlngth    0\n",
       "taill       0\n",
       "footlgth    1\n",
       "earconch    0\n",
       "eye         0\n",
       "chest       0\n",
       "belly       0\n",
       "dtype: int64"
      ]
     },
     "execution_count": 3,
     "metadata": {},
     "output_type": "execute_result"
    }
   ],
   "source": [
    "df.isna().sum()"
   ]
  },
  {
   "cell_type": "code",
   "execution_count": 4,
   "id": "0ac42e58",
   "metadata": {
    "execution": {
     "iopub.execute_input": "2024-05-01T11:58:11.946839Z",
     "iopub.status.busy": "2024-05-01T11:58:11.946171Z",
     "iopub.status.idle": "2024-05-01T11:58:11.951442Z",
     "shell.execute_reply": "2024-05-01T11:58:11.950659Z"
    },
    "papermill": {
     "duration": 0.02104,
     "end_time": "2024-05-01T11:58:11.953480",
     "exception": false,
     "start_time": "2024-05-01T11:58:11.932440",
     "status": "completed"
    },
    "tags": []
   },
   "outputs": [],
   "source": [
    "df = df.dropna()"
   ]
  },
  {
   "cell_type": "code",
   "execution_count": 5,
   "id": "3fa10420",
   "metadata": {
    "execution": {
     "iopub.execute_input": "2024-05-01T11:58:11.980400Z",
     "iopub.status.busy": "2024-05-01T11:58:11.979671Z",
     "iopub.status.idle": "2024-05-01T11:58:11.989025Z",
     "shell.execute_reply": "2024-05-01T11:58:11.987718Z"
    },
    "papermill": {
     "duration": 0.025409,
     "end_time": "2024-05-01T11:58:11.991627",
     "exception": false,
     "start_time": "2024-05-01T11:58:11.966218",
     "status": "completed"
    },
    "tags": []
   },
   "outputs": [
    {
     "data": {
      "text/plain": [
       "case        0\n",
       "site        0\n",
       "Pop         0\n",
       "sex         0\n",
       "age         0\n",
       "hdlngth     0\n",
       "skullw      0\n",
       "totlngth    0\n",
       "taill       0\n",
       "footlgth    0\n",
       "earconch    0\n",
       "eye         0\n",
       "chest       0\n",
       "belly       0\n",
       "dtype: int64"
      ]
     },
     "execution_count": 5,
     "metadata": {},
     "output_type": "execute_result"
    }
   ],
   "source": [
    "df.isna().sum()"
   ]
  },
  {
   "cell_type": "code",
   "execution_count": 6,
   "id": "3c9dbf24",
   "metadata": {
    "execution": {
     "iopub.execute_input": "2024-05-01T11:58:12.018963Z",
     "iopub.status.busy": "2024-05-01T11:58:12.018598Z",
     "iopub.status.idle": "2024-05-01T11:58:12.031049Z",
     "shell.execute_reply": "2024-05-01T11:58:12.030035Z"
    },
    "papermill": {
     "duration": 0.028038,
     "end_time": "2024-05-01T11:58:12.033219",
     "exception": false,
     "start_time": "2024-05-01T11:58:12.005181",
     "status": "completed"
    },
    "tags": []
   },
   "outputs": [
    {
     "data": {
      "text/plain": [
       "0"
      ]
     },
     "execution_count": 6,
     "metadata": {},
     "output_type": "execute_result"
    }
   ],
   "source": [
    "df.duplicated().sum()"
   ]
  },
  {
   "cell_type": "code",
   "execution_count": 7,
   "id": "c0369e3c",
   "metadata": {
    "execution": {
     "iopub.execute_input": "2024-05-01T11:58:12.059945Z",
     "iopub.status.busy": "2024-05-01T11:58:12.059269Z",
     "iopub.status.idle": "2024-05-01T11:58:12.063887Z",
     "shell.execute_reply": "2024-05-01T11:58:12.062978Z"
    },
    "papermill": {
     "duration": 0.020287,
     "end_time": "2024-05-01T11:58:12.066053",
     "exception": false,
     "start_time": "2024-05-01T11:58:12.045766",
     "status": "completed"
    },
    "tags": []
   },
   "outputs": [],
   "source": [
    "pre_df = df.copy()"
   ]
  },
  {
   "cell_type": "code",
   "execution_count": 8,
   "id": "a30a75e9",
   "metadata": {
    "execution": {
     "iopub.execute_input": "2024-05-01T11:58:12.092718Z",
     "iopub.status.busy": "2024-05-01T11:58:12.092320Z",
     "iopub.status.idle": "2024-05-01T11:58:12.099601Z",
     "shell.execute_reply": "2024-05-01T11:58:12.098569Z"
    },
    "papermill": {
     "duration": 0.023563,
     "end_time": "2024-05-01T11:58:12.102115",
     "exception": false,
     "start_time": "2024-05-01T11:58:12.078552",
     "status": "completed"
    },
    "tags": []
   },
   "outputs": [],
   "source": [
    "pre_df = pre_df.drop(labels=['Pop','sex', 'case'], axis=1)"
   ]
  },
  {
   "cell_type": "code",
   "execution_count": 9,
   "id": "9a314ec2",
   "metadata": {
    "execution": {
     "iopub.execute_input": "2024-05-01T11:58:12.128439Z",
     "iopub.status.busy": "2024-05-01T11:58:12.128052Z",
     "iopub.status.idle": "2024-05-01T11:58:12.155205Z",
     "shell.execute_reply": "2024-05-01T11:58:12.154097Z"
    },
    "papermill": {
     "duration": 0.043794,
     "end_time": "2024-05-01T11:58:12.158231",
     "exception": false,
     "start_time": "2024-05-01T11:58:12.114437",
     "status": "completed"
    },
    "tags": []
   },
   "outputs": [
    {
     "data": {
      "text/html": [
       "<div>\n",
       "<style scoped>\n",
       "    .dataframe tbody tr th:only-of-type {\n",
       "        vertical-align: middle;\n",
       "    }\n",
       "\n",
       "    .dataframe tbody tr th {\n",
       "        vertical-align: top;\n",
       "    }\n",
       "\n",
       "    .dataframe thead th {\n",
       "        text-align: right;\n",
       "    }\n",
       "</style>\n",
       "<table border=\"1\" class=\"dataframe\">\n",
       "  <thead>\n",
       "    <tr style=\"text-align: right;\">\n",
       "      <th></th>\n",
       "      <th>site</th>\n",
       "      <th>age</th>\n",
       "      <th>hdlngth</th>\n",
       "      <th>skullw</th>\n",
       "      <th>totlngth</th>\n",
       "      <th>taill</th>\n",
       "      <th>footlgth</th>\n",
       "      <th>earconch</th>\n",
       "      <th>eye</th>\n",
       "      <th>chest</th>\n",
       "      <th>belly</th>\n",
       "    </tr>\n",
       "  </thead>\n",
       "  <tbody>\n",
       "    <tr>\n",
       "      <th>0</th>\n",
       "      <td>1</td>\n",
       "      <td>8.0</td>\n",
       "      <td>94.1</td>\n",
       "      <td>60.4</td>\n",
       "      <td>89.0</td>\n",
       "      <td>36.0</td>\n",
       "      <td>74.5</td>\n",
       "      <td>54.5</td>\n",
       "      <td>15.2</td>\n",
       "      <td>28.0</td>\n",
       "      <td>36.0</td>\n",
       "    </tr>\n",
       "    <tr>\n",
       "      <th>1</th>\n",
       "      <td>1</td>\n",
       "      <td>6.0</td>\n",
       "      <td>92.5</td>\n",
       "      <td>57.6</td>\n",
       "      <td>91.5</td>\n",
       "      <td>36.5</td>\n",
       "      <td>72.5</td>\n",
       "      <td>51.2</td>\n",
       "      <td>16.0</td>\n",
       "      <td>28.5</td>\n",
       "      <td>33.0</td>\n",
       "    </tr>\n",
       "    <tr>\n",
       "      <th>2</th>\n",
       "      <td>1</td>\n",
       "      <td>6.0</td>\n",
       "      <td>94.0</td>\n",
       "      <td>60.0</td>\n",
       "      <td>95.5</td>\n",
       "      <td>39.0</td>\n",
       "      <td>75.4</td>\n",
       "      <td>51.9</td>\n",
       "      <td>15.5</td>\n",
       "      <td>30.0</td>\n",
       "      <td>34.0</td>\n",
       "    </tr>\n",
       "    <tr>\n",
       "      <th>3</th>\n",
       "      <td>1</td>\n",
       "      <td>6.0</td>\n",
       "      <td>93.2</td>\n",
       "      <td>57.1</td>\n",
       "      <td>92.0</td>\n",
       "      <td>38.0</td>\n",
       "      <td>76.1</td>\n",
       "      <td>52.2</td>\n",
       "      <td>15.2</td>\n",
       "      <td>28.0</td>\n",
       "      <td>34.0</td>\n",
       "    </tr>\n",
       "    <tr>\n",
       "      <th>4</th>\n",
       "      <td>1</td>\n",
       "      <td>2.0</td>\n",
       "      <td>91.5</td>\n",
       "      <td>56.3</td>\n",
       "      <td>85.5</td>\n",
       "      <td>36.0</td>\n",
       "      <td>71.0</td>\n",
       "      <td>53.2</td>\n",
       "      <td>15.1</td>\n",
       "      <td>28.5</td>\n",
       "      <td>33.0</td>\n",
       "    </tr>\n",
       "    <tr>\n",
       "      <th>...</th>\n",
       "      <td>...</td>\n",
       "      <td>...</td>\n",
       "      <td>...</td>\n",
       "      <td>...</td>\n",
       "      <td>...</td>\n",
       "      <td>...</td>\n",
       "      <td>...</td>\n",
       "      <td>...</td>\n",
       "      <td>...</td>\n",
       "      <td>...</td>\n",
       "      <td>...</td>\n",
       "    </tr>\n",
       "    <tr>\n",
       "      <th>99</th>\n",
       "      <td>7</td>\n",
       "      <td>1.0</td>\n",
       "      <td>89.5</td>\n",
       "      <td>56.0</td>\n",
       "      <td>81.5</td>\n",
       "      <td>36.5</td>\n",
       "      <td>66.0</td>\n",
       "      <td>46.8</td>\n",
       "      <td>14.8</td>\n",
       "      <td>23.0</td>\n",
       "      <td>27.0</td>\n",
       "    </tr>\n",
       "    <tr>\n",
       "      <th>100</th>\n",
       "      <td>7</td>\n",
       "      <td>1.0</td>\n",
       "      <td>88.6</td>\n",
       "      <td>54.7</td>\n",
       "      <td>82.5</td>\n",
       "      <td>39.0</td>\n",
       "      <td>64.4</td>\n",
       "      <td>48.0</td>\n",
       "      <td>14.0</td>\n",
       "      <td>25.0</td>\n",
       "      <td>33.0</td>\n",
       "    </tr>\n",
       "    <tr>\n",
       "      <th>101</th>\n",
       "      <td>7</td>\n",
       "      <td>6.0</td>\n",
       "      <td>92.4</td>\n",
       "      <td>55.0</td>\n",
       "      <td>89.0</td>\n",
       "      <td>38.0</td>\n",
       "      <td>63.5</td>\n",
       "      <td>45.4</td>\n",
       "      <td>13.0</td>\n",
       "      <td>25.0</td>\n",
       "      <td>30.0</td>\n",
       "    </tr>\n",
       "    <tr>\n",
       "      <th>102</th>\n",
       "      <td>7</td>\n",
       "      <td>4.0</td>\n",
       "      <td>91.5</td>\n",
       "      <td>55.2</td>\n",
       "      <td>82.5</td>\n",
       "      <td>36.5</td>\n",
       "      <td>62.9</td>\n",
       "      <td>45.9</td>\n",
       "      <td>15.4</td>\n",
       "      <td>25.0</td>\n",
       "      <td>29.0</td>\n",
       "    </tr>\n",
       "    <tr>\n",
       "      <th>103</th>\n",
       "      <td>7</td>\n",
       "      <td>3.0</td>\n",
       "      <td>93.6</td>\n",
       "      <td>59.9</td>\n",
       "      <td>89.0</td>\n",
       "      <td>40.0</td>\n",
       "      <td>67.6</td>\n",
       "      <td>46.0</td>\n",
       "      <td>14.8</td>\n",
       "      <td>28.5</td>\n",
       "      <td>33.5</td>\n",
       "    </tr>\n",
       "  </tbody>\n",
       "</table>\n",
       "<p>101 rows × 11 columns</p>\n",
       "</div>"
      ],
      "text/plain": [
       "     site  age  hdlngth  skullw  totlngth  taill  footlgth  earconch   eye  \\\n",
       "0       1  8.0     94.1    60.4      89.0   36.0      74.5      54.5  15.2   \n",
       "1       1  6.0     92.5    57.6      91.5   36.5      72.5      51.2  16.0   \n",
       "2       1  6.0     94.0    60.0      95.5   39.0      75.4      51.9  15.5   \n",
       "3       1  6.0     93.2    57.1      92.0   38.0      76.1      52.2  15.2   \n",
       "4       1  2.0     91.5    56.3      85.5   36.0      71.0      53.2  15.1   \n",
       "..    ...  ...      ...     ...       ...    ...       ...       ...   ...   \n",
       "99      7  1.0     89.5    56.0      81.5   36.5      66.0      46.8  14.8   \n",
       "100     7  1.0     88.6    54.7      82.5   39.0      64.4      48.0  14.0   \n",
       "101     7  6.0     92.4    55.0      89.0   38.0      63.5      45.4  13.0   \n",
       "102     7  4.0     91.5    55.2      82.5   36.5      62.9      45.9  15.4   \n",
       "103     7  3.0     93.6    59.9      89.0   40.0      67.6      46.0  14.8   \n",
       "\n",
       "     chest  belly  \n",
       "0     28.0   36.0  \n",
       "1     28.5   33.0  \n",
       "2     30.0   34.0  \n",
       "3     28.0   34.0  \n",
       "4     28.5   33.0  \n",
       "..     ...    ...  \n",
       "99    23.0   27.0  \n",
       "100   25.0   33.0  \n",
       "101   25.0   30.0  \n",
       "102   25.0   29.0  \n",
       "103   28.5   33.5  \n",
       "\n",
       "[101 rows x 11 columns]"
      ]
     },
     "execution_count": 9,
     "metadata": {},
     "output_type": "execute_result"
    }
   ],
   "source": [
    "pre_df"
   ]
  },
  {
   "cell_type": "code",
   "execution_count": 10,
   "id": "ba2406d5",
   "metadata": {
    "execution": {
     "iopub.execute_input": "2024-05-01T11:58:12.185283Z",
     "iopub.status.busy": "2024-05-01T11:58:12.184924Z",
     "iopub.status.idle": "2024-05-01T11:58:12.195665Z",
     "shell.execute_reply": "2024-05-01T11:58:12.194924Z"
    },
    "papermill": {
     "duration": 0.026953,
     "end_time": "2024-05-01T11:58:12.197716",
     "exception": false,
     "start_time": "2024-05-01T11:58:12.170763",
     "status": "completed"
    },
    "tags": []
   },
   "outputs": [
    {
     "data": {
      "text/plain": [
       "hdlngth     0.670402\n",
       "taill       0.563586\n",
       "chest       0.556094\n",
       "skullw      0.506382\n",
       "belly       0.500558\n",
       "footlgth    0.483174\n",
       "age         0.268297\n",
       "eye         0.247150\n",
       "earconch    0.181230\n",
       "site       -0.304642\n",
       "Name: totlngth, dtype: float64"
      ]
     },
     "execution_count": 10,
     "metadata": {},
     "output_type": "execute_result"
    }
   ],
   "source": [
    "pre_df.corr()['totlngth'].sort_values(ascending=False)[1:]"
   ]
  },
  {
   "cell_type": "code",
   "execution_count": 11,
   "id": "ae397f6f",
   "metadata": {
    "execution": {
     "iopub.execute_input": "2024-05-01T11:58:12.225913Z",
     "iopub.status.busy": "2024-05-01T11:58:12.225499Z",
     "iopub.status.idle": "2024-05-01T11:58:14.083196Z",
     "shell.execute_reply": "2024-05-01T11:58:14.080745Z"
    },
    "papermill": {
     "duration": 1.874945,
     "end_time": "2024-05-01T11:58:14.085456",
     "exception": false,
     "start_time": "2024-05-01T11:58:12.210511",
     "status": "completed"
    },
    "tags": []
   },
   "outputs": [
    {
     "data": {
      "text/plain": [
       "<Axes: >"
      ]
     },
     "execution_count": 11,
     "metadata": {},
     "output_type": "execute_result"
    },
    {
     "data": {
      "image/png": "[encoded data removed]",
      "text/plain": [
       "<Figure size 640x480 with 2 Axes>"
      ]
     },
     "metadata": {},
     "output_type": "display_data"
    }
   ],
   "source": [
    "import seaborn as sns\n",
    "\n",
    "sns.heatmap(pre_df.corr())"
   ]
  },
  {
   "cell_type": "code",
   "execution_count": 12,
   "id": "beaad481",
   "metadata": {
    "execution": {
     "iopub.execute_input": "2024-05-01T11:58:14.114615Z",
     "iopub.status.busy": "2024-05-01T11:58:14.114224Z",
     "iopub.status.idle": "2024-05-01T11:58:14.143721Z",
     "shell.execute_reply": "2024-05-01T11:58:14.142663Z"
    },
    "papermill": {
     "duration": 0.046802,
     "end_time": "2024-05-01T11:58:14.145770",
     "exception": false,
     "start_time": "2024-05-01T11:58:14.098968",
     "status": "completed"
    },
    "tags": []
   },
   "outputs": [
    {
     "data": {
      "text/html": [
       "<div>\n",
       "<style scoped>\n",
       "    .dataframe tbody tr th:only-of-type {\n",
       "        vertical-align: middle;\n",
       "    }\n",
       "\n",
       "    .dataframe tbody tr th {\n",
       "        vertical-align: top;\n",
       "    }\n",
       "\n",
       "    .dataframe thead th {\n",
       "        text-align: right;\n",
       "    }\n",
       "</style>\n",
       "<table border=\"1\" class=\"dataframe\">\n",
       "  <thead>\n",
       "    <tr style=\"text-align: right;\">\n",
       "      <th></th>\n",
       "      <th>site</th>\n",
       "      <th>age</th>\n",
       "      <th>hdlngth</th>\n",
       "      <th>skullw</th>\n",
       "      <th>taill</th>\n",
       "      <th>footlgth</th>\n",
       "      <th>earconch</th>\n",
       "      <th>eye</th>\n",
       "      <th>chest</th>\n",
       "      <th>belly</th>\n",
       "      <th>totlngth</th>\n",
       "    </tr>\n",
       "  </thead>\n",
       "  <tbody>\n",
       "    <tr>\n",
       "      <th>0</th>\n",
       "      <td>1</td>\n",
       "      <td>8.0</td>\n",
       "      <td>94.1</td>\n",
       "      <td>60.4</td>\n",
       "      <td>36.0</td>\n",
       "      <td>74.5</td>\n",
       "      <td>54.5</td>\n",
       "      <td>15.2</td>\n",
       "      <td>28.0</td>\n",
       "      <td>36.0</td>\n",
       "      <td>89.0</td>\n",
       "    </tr>\n",
       "    <tr>\n",
       "      <th>1</th>\n",
       "      <td>1</td>\n",
       "      <td>6.0</td>\n",
       "      <td>92.5</td>\n",
       "      <td>57.6</td>\n",
       "      <td>36.5</td>\n",
       "      <td>72.5</td>\n",
       "      <td>51.2</td>\n",
       "      <td>16.0</td>\n",
       "      <td>28.5</td>\n",
       "      <td>33.0</td>\n",
       "      <td>91.5</td>\n",
       "    </tr>\n",
       "    <tr>\n",
       "      <th>2</th>\n",
       "      <td>1</td>\n",
       "      <td>6.0</td>\n",
       "      <td>94.0</td>\n",
       "      <td>60.0</td>\n",
       "      <td>39.0</td>\n",
       "      <td>75.4</td>\n",
       "      <td>51.9</td>\n",
       "      <td>15.5</td>\n",
       "      <td>30.0</td>\n",
       "      <td>34.0</td>\n",
       "      <td>95.5</td>\n",
       "    </tr>\n",
       "    <tr>\n",
       "      <th>3</th>\n",
       "      <td>1</td>\n",
       "      <td>6.0</td>\n",
       "      <td>93.2</td>\n",
       "      <td>57.1</td>\n",
       "      <td>38.0</td>\n",
       "      <td>76.1</td>\n",
       "      <td>52.2</td>\n",
       "      <td>15.2</td>\n",
       "      <td>28.0</td>\n",
       "      <td>34.0</td>\n",
       "      <td>92.0</td>\n",
       "    </tr>\n",
       "    <tr>\n",
       "      <th>4</th>\n",
       "      <td>1</td>\n",
       "      <td>2.0</td>\n",
       "      <td>91.5</td>\n",
       "      <td>56.3</td>\n",
       "      <td>36.0</td>\n",
       "      <td>71.0</td>\n",
       "      <td>53.2</td>\n",
       "      <td>15.1</td>\n",
       "      <td>28.5</td>\n",
       "      <td>33.0</td>\n",
       "      <td>85.5</td>\n",
       "    </tr>\n",
       "    <tr>\n",
       "      <th>...</th>\n",
       "      <td>...</td>\n",
       "      <td>...</td>\n",
       "      <td>...</td>\n",
       "      <td>...</td>\n",
       "      <td>...</td>\n",
       "      <td>...</td>\n",
       "      <td>...</td>\n",
       "      <td>...</td>\n",
       "      <td>...</td>\n",
       "      <td>...</td>\n",
       "      <td>...</td>\n",
       "    </tr>\n",
       "    <tr>\n",
       "      <th>99</th>\n",
       "      <td>7</td>\n",
       "      <td>1.0</td>\n",
       "      <td>89.5</td>\n",
       "      <td>56.0</td>\n",
       "      <td>36.5</td>\n",
       "      <td>66.0</td>\n",
       "      <td>46.8</td>\n",
       "      <td>14.8</td>\n",
       "      <td>23.0</td>\n",
       "      <td>27.0</td>\n",
       "      <td>81.5</td>\n",
       "    </tr>\n",
       "    <tr>\n",
       "      <th>100</th>\n",
       "      <td>7</td>\n",
       "      <td>1.0</td>\n",
       "      <td>88.6</td>\n",
       "      <td>54.7</td>\n",
       "      <td>39.0</td>\n",
       "      <td>64.4</td>\n",
       "      <td>48.0</td>\n",
       "      <td>14.0</td>\n",
       "      <td>25.0</td>\n",
       "      <td>33.0</td>\n",
       "      <td>82.5</td>\n",
       "    </tr>\n",
       "    <tr>\n",
       "      <th>101</th>\n",
       "      <td>7</td>\n",
       "      <td>6.0</td>\n",
       "      <td>92.4</td>\n",
       "      <td>55.0</td>\n",
       "      <td>38.0</td>\n",
       "      <td>63.5</td>\n",
       "      <td>45.4</td>\n",
       "      <td>13.0</td>\n",
       "      <td>25.0</td>\n",
       "      <td>30.0</td>\n",
       "      <td>89.0</td>\n",
       "    </tr>\n",
       "    <tr>\n",
       "      <th>102</th>\n",
       "      <td>7</td>\n",
       "      <td>4.0</td>\n",
       "      <td>91.5</td>\n",
       "      <td>55.2</td>\n",
       "      <td>36.5</td>\n",
       "      <td>62.9</td>\n",
       "      <td>45.9</td>\n",
       "      <td>15.4</td>\n",
       "      <td>25.0</td>\n",
       "      <td>29.0</td>\n",
       "      <td>82.5</td>\n",
       "    </tr>\n",
       "    <tr>\n",
       "      <th>103</th>\n",
       "      <td>7</td>\n",
       "      <td>3.0</td>\n",
       "      <td>93.6</td>\n",
       "      <td>59.9</td>\n",
       "      <td>40.0</td>\n",
       "      <td>67.6</td>\n",
       "      <td>46.0</td>\n",
       "      <td>14.8</td>\n",
       "      <td>28.5</td>\n",
       "      <td>33.5</td>\n",
       "      <td>89.0</td>\n",
       "    </tr>\n",
       "  </tbody>\n",
       "</table>\n",
       "<p>101 rows × 11 columns</p>\n",
       "</div>"
      ],
      "text/plain": [
       "     site  age  hdlngth  skullw  taill  footlgth  earconch   eye  chest  \\\n",
       "0       1  8.0     94.1    60.4   36.0      74.5      54.5  15.2   28.0   \n",
       "1       1  6.0     92.5    57.6   36.5      72.5      51.2  16.0   28.5   \n",
       "2       1  6.0     94.0    60.0   39.0      75.4      51.9  15.5   30.0   \n",
       "3       1  6.0     93.2    57.1   38.0      76.1      52.2  15.2   28.0   \n",
       "4       1  2.0     91.5    56.3   36.0      71.0      53.2  15.1   28.5   \n",
       "..    ...  ...      ...     ...    ...       ...       ...   ...    ...   \n",
       "99      7  1.0     89.5    56.0   36.5      66.0      46.8  14.8   23.0   \n",
       "100     7  1.0     88.6    54.7   39.0      64.4      48.0  14.0   25.0   \n",
       "101     7  6.0     92.4    55.0   38.0      63.5      45.4  13.0   25.0   \n",
       "102     7  4.0     91.5    55.2   36.5      62.9      45.9  15.4   25.0   \n",
       "103     7  3.0     93.6    59.9   40.0      67.6      46.0  14.8   28.5   \n",
       "\n",
       "     belly  totlngth  \n",
       "0     36.0      89.0  \n",
       "1     33.0      91.5  \n",
       "2     34.0      95.5  \n",
       "3     34.0      92.0  \n",
       "4     33.0      85.5  \n",
       "..     ...       ...  \n",
       "99    27.0      81.5  \n",
       "100   33.0      82.5  \n",
       "101   30.0      89.0  \n",
       "102   29.0      82.5  \n",
       "103   33.5      89.0  \n",
       "\n",
       "[101 rows x 11 columns]"
      ]
     },
     "execution_count": 12,
     "metadata": {},
     "output_type": "execute_result"
    }
   ],
   "source": [
    "columns = ['site','age','hdlngth','skullw','taill','footlgth','earconch','eye','chest','belly','totlngth']\n",
    "pre_df = pre_df[columns]\n",
    "pre_df"
   ]
  },
  {
   "cell_type": "code",
   "execution_count": 13,
   "id": "0908de32",
   "metadata": {
    "execution": {
     "iopub.execute_input": "2024-05-01T11:58:14.177793Z",
     "iopub.status.busy": "2024-05-01T11:58:14.177382Z",
     "iopub.status.idle": "2024-05-01T11:58:16.807097Z",
     "shell.execute_reply": "2024-05-01T11:58:16.806162Z"
    },
    "papermill": {
     "duration": 2.650078,
     "end_time": "2024-05-01T11:58:16.810042",
     "exception": false,
     "start_time": "2024-05-01T11:58:14.159964",
     "status": "completed"
    },
    "tags": []
   },
   "outputs": [
    {
     "data": {
      "text/plain": [
       "array([[<Axes: title={'center': 'site'}>,\n",
       "        <Axes: title={'center': 'age'}>,\n",
       "        <Axes: title={'center': 'hdlngth'}>],\n",
       "       [<Axes: title={'center': 'skullw'}>,\n",
       "        <Axes: title={'center': 'taill'}>,\n",
       "        <Axes: title={'center': 'footlgth'}>],\n",
       "       [<Axes: title={'center': 'earconch'}>,\n",
       "        <Axes: title={'center': 'eye'}>,\n",
       "        <Axes: title={'center': 'chest'}>],\n",
       "       [<Axes: title={'center': 'belly'}>,\n",
       "        <Axes: title={'center': 'totlngth'}>, <Axes: >]], dtype=object)"
      ]
     },
     "execution_count": 13,
     "metadata": {},
     "output_type": "execute_result"
    },
    {
     "data": {
      "image/png": "[encoded data removed]",
      "text/plain": [
       "<Figure size 1500x1500 with 12 Axes>"
      ]
     },
     "metadata": {},
     "output_type": "display_data"
    }
   ],
   "source": [
    "pre_df.hist(figsize=(15,15))"
   ]
  },
  {
   "cell_type": "code",
   "execution_count": 14,
   "id": "c330d3a1",
   "metadata": {
    "execution": {
     "iopub.execute_input": "2024-05-01T11:58:16.843751Z",
     "iopub.status.busy": "2024-05-01T11:58:16.843275Z",
     "iopub.status.idle": "2024-05-01T11:58:16.891474Z",
     "shell.execute_reply": "2024-05-01T11:58:16.890335Z"
    },
    "papermill": {
     "duration": 0.067801,
     "end_time": "2024-05-01T11:58:16.893960",
     "exception": false,
     "start_time": "2024-05-01T11:58:16.826159",
     "status": "completed"
    },
    "tags": []
   },
   "outputs": [
    {
     "data": {
      "text/html": [
       "<div>\n",
       "<style scoped>\n",
       "    .dataframe tbody tr th:only-of-type {\n",
       "        vertical-align: middle;\n",
       "    }\n",
       "\n",
       "    .dataframe tbody tr th {\n",
       "        vertical-align: top;\n",
       "    }\n",
       "\n",
       "    .dataframe thead th {\n",
       "        text-align: right;\n",
       "    }\n",
       "</style>\n",
       "<table border=\"1\" class=\"dataframe\">\n",
       "  <thead>\n",
       "    <tr style=\"text-align: right;\">\n",
       "      <th></th>\n",
       "      <th>count</th>\n",
       "      <th>mean</th>\n",
       "      <th>std</th>\n",
       "      <th>min</th>\n",
       "      <th>25%</th>\n",
       "      <th>50%</th>\n",
       "      <th>75%</th>\n",
       "      <th>max</th>\n",
       "    </tr>\n",
       "  </thead>\n",
       "  <tbody>\n",
       "    <tr>\n",
       "      <th>site</th>\n",
       "      <td>101.0</td>\n",
       "      <td>3.673267</td>\n",
       "      <td>2.366892</td>\n",
       "      <td>1.0</td>\n",
       "      <td>1.0</td>\n",
       "      <td>4.0</td>\n",
       "      <td>6.0</td>\n",
       "      <td>7.0</td>\n",
       "    </tr>\n",
       "    <tr>\n",
       "      <th>age</th>\n",
       "      <td>101.0</td>\n",
       "      <td>3.821782</td>\n",
       "      <td>1.915182</td>\n",
       "      <td>1.0</td>\n",
       "      <td>2.0</td>\n",
       "      <td>3.0</td>\n",
       "      <td>5.0</td>\n",
       "      <td>9.0</td>\n",
       "    </tr>\n",
       "    <tr>\n",
       "      <th>hdlngth</th>\n",
       "      <td>101.0</td>\n",
       "      <td>92.730693</td>\n",
       "      <td>3.518714</td>\n",
       "      <td>82.5</td>\n",
       "      <td>90.7</td>\n",
       "      <td>92.9</td>\n",
       "      <td>94.8</td>\n",
       "      <td>103.1</td>\n",
       "    </tr>\n",
       "    <tr>\n",
       "      <th>skullw</th>\n",
       "      <td>101.0</td>\n",
       "      <td>56.960396</td>\n",
       "      <td>3.102679</td>\n",
       "      <td>50.0</td>\n",
       "      <td>55.0</td>\n",
       "      <td>56.4</td>\n",
       "      <td>58.1</td>\n",
       "      <td>68.6</td>\n",
       "    </tr>\n",
       "    <tr>\n",
       "      <th>taill</th>\n",
       "      <td>101.0</td>\n",
       "      <td>37.049505</td>\n",
       "      <td>1.971681</td>\n",
       "      <td>32.0</td>\n",
       "      <td>36.0</td>\n",
       "      <td>37.0</td>\n",
       "      <td>38.0</td>\n",
       "      <td>43.0</td>\n",
       "    </tr>\n",
       "    <tr>\n",
       "      <th>footlgth</th>\n",
       "      <td>101.0</td>\n",
       "      <td>68.398020</td>\n",
       "      <td>4.413502</td>\n",
       "      <td>60.3</td>\n",
       "      <td>64.5</td>\n",
       "      <td>67.9</td>\n",
       "      <td>72.5</td>\n",
       "      <td>77.9</td>\n",
       "    </tr>\n",
       "    <tr>\n",
       "      <th>earconch</th>\n",
       "      <td>101.0</td>\n",
       "      <td>48.133663</td>\n",
       "      <td>4.060352</td>\n",
       "      <td>41.3</td>\n",
       "      <td>44.8</td>\n",
       "      <td>46.8</td>\n",
       "      <td>52.0</td>\n",
       "      <td>56.2</td>\n",
       "    </tr>\n",
       "    <tr>\n",
       "      <th>eye</th>\n",
       "      <td>101.0</td>\n",
       "      <td>15.050495</td>\n",
       "      <td>1.058643</td>\n",
       "      <td>12.8</td>\n",
       "      <td>14.4</td>\n",
       "      <td>14.9</td>\n",
       "      <td>15.7</td>\n",
       "      <td>17.8</td>\n",
       "    </tr>\n",
       "    <tr>\n",
       "      <th>chest</th>\n",
       "      <td>101.0</td>\n",
       "      <td>27.064356</td>\n",
       "      <td>2.020722</td>\n",
       "      <td>22.0</td>\n",
       "      <td>25.5</td>\n",
       "      <td>27.0</td>\n",
       "      <td>28.0</td>\n",
       "      <td>32.0</td>\n",
       "    </tr>\n",
       "    <tr>\n",
       "      <th>belly</th>\n",
       "      <td>101.0</td>\n",
       "      <td>32.638614</td>\n",
       "      <td>2.727745</td>\n",
       "      <td>25.0</td>\n",
       "      <td>31.0</td>\n",
       "      <td>32.5</td>\n",
       "      <td>34.0</td>\n",
       "      <td>40.0</td>\n",
       "    </tr>\n",
       "    <tr>\n",
       "      <th>totlngth</th>\n",
       "      <td>101.0</td>\n",
       "      <td>87.269307</td>\n",
       "      <td>4.196802</td>\n",
       "      <td>75.0</td>\n",
       "      <td>84.5</td>\n",
       "      <td>88.0</td>\n",
       "      <td>90.0</td>\n",
       "      <td>96.5</td>\n",
       "    </tr>\n",
       "  </tbody>\n",
       "</table>\n",
       "</div>"
      ],
      "text/plain": [
       "          count       mean       std   min   25%   50%   75%    max\n",
       "site      101.0   3.673267  2.366892   1.0   1.0   4.0   6.0    7.0\n",
       "age       101.0   3.821782  1.915182   1.0   2.0   3.0   5.0    9.0\n",
       "hdlngth   101.0  92.730693  3.518714  82.5  90.7  92.9  94.8  103.1\n",
       "skullw    101.0  56.960396  3.102679  50.0  55.0  56.4  58.1   68.6\n",
       "taill     101.0  37.049505  1.971681  32.0  36.0  37.0  38.0   43.0\n",
       "footlgth  101.0  68.398020  4.413502  60.3  64.5  67.9  72.5   77.9\n",
       "earconch  101.0  48.133663  4.060352  41.3  44.8  46.8  52.0   56.2\n",
       "eye       101.0  15.050495  1.058643  12.8  14.4  14.9  15.7   17.8\n",
       "chest     101.0  27.064356  2.020722  22.0  25.5  27.0  28.0   32.0\n",
       "belly     101.0  32.638614  2.727745  25.0  31.0  32.5  34.0   40.0\n",
       "totlngth  101.0  87.269307  4.196802  75.0  84.5  88.0  90.0   96.5"
      ]
     },
     "execution_count": 14,
     "metadata": {},
     "output_type": "execute_result"
    }
   ],
   "source": [
    "pre_df.describe().T"
   ]
  },
  {
   "cell_type": "code",
   "execution_count": 15,
   "id": "e346970c",
   "metadata": {
    "execution": {
     "iopub.execute_input": "2024-05-01T11:58:16.928252Z",
     "iopub.status.busy": "2024-05-01T11:58:16.927735Z",
     "iopub.status.idle": "2024-05-01T11:58:16.945090Z",
     "shell.execute_reply": "2024-05-01T11:58:16.943016Z"
    },
    "papermill": {
     "duration": 0.037444,
     "end_time": "2024-05-01T11:58:16.947476",
     "exception": false,
     "start_time": "2024-05-01T11:58:16.910032",
     "status": "completed"
    },
    "tags": []
   },
   "outputs": [
    {
     "name": "stdout",
     "output_type": "stream",
     "text": [
      "<class 'pandas.core.frame.DataFrame'>\n",
      "Index: 101 entries, 0 to 103\n",
      "Data columns (total 11 columns):\n",
      " #   Column    Non-Null Count  Dtype  \n",
      "---  ------    --------------  -----  \n",
      " 0   site      101 non-null    int64  \n",
      " 1   age       101 non-null    float64\n",
      " 2   hdlngth   101 non-null    float64\n",
      " 3   skullw    101 non-null    float64\n",
      " 4   taill     101 non-null    float64\n",
      " 5   footlgth  101 non-null    float64\n",
      " 6   earconch  101 non-null    float64\n",
      " 7   eye       101 non-null    float64\n",
      " 8   chest     101 non-null    float64\n",
      " 9   belly     101 non-null    float64\n",
      " 10  totlngth  101 non-null    float64\n",
      "dtypes: float64(10), int64(1)\n",
      "memory usage: 9.5 KB\n"
     ]
    }
   ],
   "source": [
    "pre_df.info()"
   ]
  },
  {
   "cell_type": "markdown",
   "id": "f044493d",
   "metadata": {
    "papermill": {
     "duration": 0.016775,
     "end_time": "2024-05-01T11:58:16.980786",
     "exception": false,
     "start_time": "2024-05-01T11:58:16.964011",
     "status": "completed"
    },
    "tags": []
   },
   "source": [
    "### 📌 회귀 작업 시작"
   ]
  },
  {
   "cell_type": "code",
   "execution_count": 16,
   "id": "3c5d9444",
   "metadata": {
    "execution": {
     "iopub.execute_input": "2024-05-01T11:58:17.015135Z",
     "iopub.status.busy": "2024-05-01T11:58:17.014773Z",
     "iopub.status.idle": "2024-05-01T11:58:17.409027Z",
     "shell.execute_reply": "2024-05-01T11:58:17.407613Z"
    },
    "papermill": {
     "duration": 0.414486,
     "end_time": "2024-05-01T11:58:17.411549",
     "exception": false,
     "start_time": "2024-05-01T11:58:16.997063",
     "status": "completed"
    },
    "tags": []
   },
   "outputs": [
    {
     "data": {
      "text/html": [
       "<style>#sk-container-id-1 {color: black;background-color: white;}#sk-container-id-1 pre{padding: 0;}#sk-container-id-1 div.sk-toggleable {background-color: white;}#sk-container-id-1 label.sk-toggleable__label {cursor: pointer;display: block;width: 100%;margin-bottom: 0;padding: 0.3em;box-sizing: border-box;text-align: center;}#sk-container-id-1 label.sk-toggleable__label-arrow:before {content: \"▸\";float: left;margin-right: 0.25em;color: #696969;}#sk-container-id-1 label.sk-toggleable__label-arrow:hover:before {color: black;}#sk-container-id-1 div.sk-estimator:hover label.sk-toggleable__label-arrow:before {color: black;}#sk-container-id-1 div.sk-toggleable__content {max-height: 0;max-width: 0;overflow: hidden;text-align: left;background-color: #f0f8ff;}#sk-container-id-1 div.sk-toggleable__content pre {margin: 0.2em;color: black;border-radius: 0.25em;background-color: #f0f8ff;}#sk-container-id-1 input.sk-toggleable__control:checked~div.sk-toggleable__content {max-height: 200px;max-width: 100%;overflow: auto;}#sk-container-id-1 input.sk-toggleable__control:checked~label.sk-toggleable__label-arrow:before {content: \"▾\";}#sk-container-id-1 div.sk-estimator input.sk-toggleable__control:checked~label.sk-toggleable__label {background-color: #d4ebff;}#sk-container-id-1 div.sk-label input.sk-toggleable__control:checked~label.sk-toggleable__label {background-color: #d4ebff;}#sk-container-id-1 input.sk-hidden--visually {border: 0;clip: rect(1px 1px 1px 1px);clip: rect(1px, 1px, 1px, 1px);height: 1px;margin: -1px;overflow: hidden;padding: 0;position: absolute;width: 1px;}#sk-container-id-1 div.sk-estimator {font-family: monospace;background-color: #f0f8ff;border: 1px dotted black;border-radius: 0.25em;box-sizing: border-box;margin-bottom: 0.5em;}#sk-container-id-1 div.sk-estimator:hover {background-color: #d4ebff;}#sk-container-id-1 div.sk-parallel-item::after {content: \"\";width: 100%;border-bottom: 1px solid gray;flex-grow: 1;}#sk-container-id-1 div.sk-label:hover label.sk-toggleable__label {background-color: #d4ebff;}#sk-container-id-1 div.sk-serial::before {content: \"\";position: absolute;border-left: 1px solid gray;box-sizing: border-box;top: 0;bottom: 0;left: 50%;z-index: 0;}#sk-container-id-1 div.sk-serial {display: flex;flex-direction: column;align-items: center;background-color: white;padding-right: 0.2em;padding-left: 0.2em;position: relative;}#sk-container-id-1 div.sk-item {position: relative;z-index: 1;}#sk-container-id-1 div.sk-parallel {display: flex;align-items: stretch;justify-content: center;background-color: white;position: relative;}#sk-container-id-1 div.sk-item::before, #sk-container-id-1 div.sk-parallel-item::before {content: \"\";position: absolute;border-left: 1px solid gray;box-sizing: border-box;top: 0;bottom: 0;left: 50%;z-index: -1;}#sk-container-id-1 div.sk-parallel-item {display: flex;flex-direction: column;z-index: 1;position: relative;background-color: white;}#sk-container-id-1 div.sk-parallel-item:first-child::after {align-self: flex-end;width: 50%;}#sk-container-id-1 div.sk-parallel-item:last-child::after {align-self: flex-start;width: 50%;}#sk-container-id-1 div.sk-parallel-item:only-child::after {width: 0;}#sk-container-id-1 div.sk-dashed-wrapped {border: 1px dashed gray;margin: 0 0.4em 0.5em 0.4em;box-sizing: border-box;padding-bottom: 0.4em;background-color: white;}#sk-container-id-1 div.sk-label label {font-family: monospace;font-weight: bold;display: inline-block;line-height: 1.2em;}#sk-container-id-1 div.sk-label-container {text-align: center;}#sk-container-id-1 div.sk-container {/* jupyter's `normalize.less` sets `[hidden] { display: none; }` but bootstrap.min.css set `[hidden] { display: none !important; }` so we also need the `!important` here to be able to override the default hidden behavior on the sphinx rendered scikit-learn.org. See: https://github.com/scikit-learn/scikit-learn/issues/21755 */display: inline-block !important;position: relative;}#sk-container-id-1 div.sk-text-repr-fallback {display: none;}</style><div id=\"sk-container-id-1\" class=\"sk-top-container\"><div class=\"sk-text-repr-fallback\"><pre>LinearRegression()</pre><b>In a Jupyter environment, please rerun this cell to show the HTML representation or trust the notebook. <br />On GitHub, the HTML representation is unable to render, please try loading this page with nbviewer.org.</b></div><div class=\"sk-container\" hidden><div class=\"sk-item\"><div class=\"sk-estimator sk-toggleable\"><input class=\"sk-toggleable__control sk-hidden--visually\" id=\"sk-estimator-id-1\" type=\"checkbox\" checked><label for=\"sk-estimator-id-1\" class=\"sk-toggleable__label sk-toggleable__label-arrow\">LinearRegression</label><div class=\"sk-toggleable__content\"><pre>LinearRegression()</pre></div></div></div></div></div>"
      ],
      "text/plain": [
       "LinearRegression()"
      ]
     },
     "execution_count": 16,
     "metadata": {},
     "output_type": "execute_result"
    }
   ],
   "source": [
    "from sklearn.model_selection import train_test_split, GridSearchCV\n",
    "from sklearn.linear_model import LinearRegression\n",
    "\n",
    "features, targets = pre_df.iloc[:,:-1], pre_df.iloc[:,-1]\n",
    "\n",
    "X_train, X_test ,y_train, y_test = \\\n",
    "train_test_split(features, targets , test_size=0.2, random_state=105)\n",
    "\n",
    "LR = LinearRegression()\n",
    "LR.fit(X_train, y_train)"
   ]
  },
  {
   "cell_type": "code",
   "execution_count": 17,
   "id": "912b65ec",
   "metadata": {
    "execution": {
     "iopub.execute_input": "2024-05-01T11:58:17.447531Z",
     "iopub.status.busy": "2024-05-01T11:58:17.447087Z",
     "iopub.status.idle": "2024-05-01T11:58:17.455110Z",
     "shell.execute_reply": "2024-05-01T11:58:17.453943Z"
    },
    "papermill": {
     "duration": 0.028832,
     "end_time": "2024-05-01T11:58:17.457560",
     "exception": false,
     "start_time": "2024-05-01T11:58:17.428728",
     "status": "completed"
    },
    "tags": []
   },
   "outputs": [],
   "source": [
    "import numpy as np\n",
    "from sklearn.metrics import mean_squared_log_error, mean_squared_error, r2_score\n",
    "\n",
    "def get_evaluation(y_test, prediction):\n",
    "    MSE = mean_squared_error(y_test, prediction)\n",
    "    RMSE = np.sqrt(MSE)\n",
    "    MSLE = mean_squared_log_error(y_test, prediction)\n",
    "    RMSLE = np.sqrt(mean_squared_log_error(y_test, prediction))\n",
    "    R2 = r2_score(y_test, prediction)\n",
    "    print('MSE: {:.4f}, RMSE: {:.4f}, MSLE: {:.4f}, RMSLE: {:.4f}, R2: {:.4f}'\\\n",
    "          .format(MSE, RMSE, MSLE, RMSLE, R2))"
   ]
  },
  {
   "cell_type": "code",
   "execution_count": 18,
   "id": "beb0d096",
   "metadata": {
    "execution": {
     "iopub.execute_input": "2024-05-01T11:58:17.501152Z",
     "iopub.status.busy": "2024-05-01T11:58:17.499506Z",
     "iopub.status.idle": "2024-05-01T11:58:17.513705Z",
     "shell.execute_reply": "2024-05-01T11:58:17.512671Z"
    },
    "papermill": {
     "duration": 0.039159,
     "end_time": "2024-05-01T11:58:17.516817",
     "exception": false,
     "start_time": "2024-05-01T11:58:17.477658",
     "status": "completed"
    },
    "tags": []
   },
   "outputs": [
    {
     "name": "stdout",
     "output_type": "stream",
     "text": [
      "MSE: 3.2396, RMSE: 1.7999, MSLE: 0.0004, RMSLE: 0.0207, R2: 0.8080\n"
     ]
    }
   ],
   "source": [
    "prediction = LR.predict(X_test)\n",
    "get_evaluation(y_test, prediction)"
   ]
  },
  {
   "cell_type": "code",
   "execution_count": 19,
   "id": "72f549da",
   "metadata": {
    "execution": {
     "iopub.execute_input": "2024-05-01T11:58:17.565460Z",
     "iopub.status.busy": "2024-05-01T11:58:17.565026Z",
     "iopub.status.idle": "2024-05-01T11:58:19.680096Z",
     "shell.execute_reply": "2024-05-01T11:58:19.679244Z"
    },
    "papermill": {
     "duration": 2.142592,
     "end_time": "2024-05-01T11:58:19.682750",
     "exception": false,
     "start_time": "2024-05-01T11:58:17.540158",
     "status": "completed"
    },
    "tags": []
   },
   "outputs": [
    {
     "name": "stdout",
     "output_type": "stream",
     "text": [
      "DecisionTreeRegressor\n",
      "MSE: 12.9019, RMSE: 3.5919, MSLE: 0.0017, RMSLE: 0.0408, R2: 0.2353\n",
      "RandomForestRegressor\n",
      "MSE: 5.4326, RMSE: 2.3308, MSLE: 0.0007, RMSLE: 0.0265, R2: 0.6780\n",
      "GradientBoostingRegressor\n",
      "MSE: 5.4631, RMSE: 2.3373, MSLE: 0.0007, RMSLE: 0.0267, R2: 0.6762\n",
      "XGBRegressor\n",
      "MSE: 5.7048, RMSE: 2.3885, MSLE: 0.0007, RMSLE: 0.0272, R2: 0.6619\n",
      "[LightGBM] [Info] Auto-choosing row-wise multi-threading, the overhead of testing was 0.002950 seconds.\n",
      "You can set `force_row_wise=true` to remove the overhead.\n",
      "And if memory is not enough, you can set `force_col_wise=true`.\n",
      "[LightGBM] [Info] Total Bins 176\n",
      "[LightGBM] [Info] Number of data points in the train set: 80, number of used features: 10\n",
      "[LightGBM] [Info] Start training from score 87.408750\n",
      "[LightGBM] [Warning] No further splits with positive gain, best gain: -inf\n",
      "[LightGBM] [Warning] No further splits with positive gain, best gain: -inf\n",
      "[LightGBM] [Warning] No further splits with positive gain, best gain: -inf\n",
      "[LightGBM] [Warning] No further splits with positive gain, best gain: -inf\n",
      "[LightGBM] [Warning] No further splits with positive gain, best gain: -inf\n",
      "[LightGBM] [Warning] No further splits with positive gain, best gain: -inf\n",
      "[LightGBM] [Warning] No further splits with positive gain, best gain: -inf\n",
      "[LightGBM] [Warning] No further splits with positive gain, best gain: -inf\n",
      "[LightGBM] [Warning] No further splits with positive gain, best gain: -inf\n",
      "[LightGBM] [Warning] No further splits with positive gain, best gain: -inf\n",
      "[LightGBM] [Warning] No further splits with positive gain, best gain: -inf\n",
      "[LightGBM] [Warning] No further splits with positive gain, best gain: -inf\n",
      "[LightGBM] [Warning] No further splits with positive gain, best gain: -inf\n",
      "[LightGBM] [Warning] No further splits with positive gain, best gain: -inf\n",
      "[LightGBM] [Warning] No further splits with positive gain, best gain: -inf\n",
      "[LightGBM] [Warning] No further splits with positive gain, best gain: -inf\n",
      "[LightGBM] [Warning] No further splits with positive gain, best gain: -inf\n",
      "[LightGBM] [Warning] No further splits with positive gain, best gain: -inf\n",
      "[LightGBM] [Warning] No further splits with positive gain, best gain: -inf\n",
      "[LightGBM] [Warning] No further splits with positive gain, best gain: -inf\n",
      "[LightGBM] [Warning] No further splits with positive gain, best gain: -inf\n",
      "[LightGBM] [Warning] No further splits with positive gain, best gain: -inf\n",
      "[LightGBM] [Warning] No further splits with positive gain, best gain: -inf\n",
      "[LightGBM] [Warning] No further splits with positive gain, best gain: -inf\n",
      "[LightGBM] [Warning] No further splits with positive gain, best gain: -inf\n",
      "[LightGBM] [Warning] No further splits with positive gain, best gain: -inf\n",
      "[LightGBM] [Warning] No further splits with positive gain, best gain: -inf\n",
      "[LightGBM] [Warning] No further splits with positive gain, best gain: -inf\n",
      "[LightGBM] [Warning] No further splits with positive gain, best gain: -inf\n",
      "[LightGBM] [Warning] No further splits with positive gain, best gain: -inf\n",
      "[LightGBM] [Warning] No further splits with positive gain, best gain: -inf\n",
      "[LightGBM] [Warning] No further splits with positive gain, best gain: -inf\n",
      "[LightGBM] [Warning] No further splits with positive gain, best gain: -inf\n",
      "[LightGBM] [Warning] No further splits with positive gain, best gain: -inf\n",
      "[LightGBM] [Warning] No further splits with positive gain, best gain: -inf\n",
      "[LightGBM] [Warning] No further splits with positive gain, best gain: -inf\n",
      "[LightGBM] [Warning] No further splits with positive gain, best gain: -inf\n",
      "[LightGBM] [Warning] No further splits with positive gain, best gain: -inf\n",
      "[LightGBM] [Warning] No further splits with positive gain, best gain: -inf\n",
      "[LightGBM] [Warning] No further splits with positive gain, best gain: -inf\n",
      "[LightGBM] [Warning] No further splits with positive gain, best gain: -inf\n",
      "[LightGBM] [Warning] No further splits with positive gain, best gain: -inf\n",
      "[LightGBM] [Warning] No further splits with positive gain, best gain: -inf\n",
      "[LightGBM] [Warning] No further splits with positive gain, best gain: -inf\n",
      "[LightGBM] [Warning] No further splits with positive gain, best gain: -inf\n",
      "[LightGBM] [Warning] No further splits with positive gain, best gain: -inf\n",
      "[LightGBM] [Warning] No further splits with positive gain, best gain: -inf\n",
      "[LightGBM] [Warning] No further splits with positive gain, best gain: -inf\n",
      "[LightGBM] [Warning] No further splits with positive gain, best gain: -inf\n",
      "[LightGBM] [Warning] No further splits with positive gain, best gain: -inf\n",
      "[LightGBM] [Warning] No further splits with positive gain, best gain: -inf\n",
      "[LightGBM] [Warning] No further splits with positive gain, best gain: -inf\n",
      "[LightGBM] [Warning] No further splits with positive gain, best gain: -inf\n",
      "[LightGBM] [Warning] No further splits with positive gain, best gain: -inf\n",
      "[LightGBM] [Warning] No further splits with positive gain, best gain: -inf\n",
      "[LightGBM] [Warning] No further splits with positive gain, best gain: -inf\n",
      "[LightGBM] [Warning] No further splits with positive gain, best gain: -inf\n",
      "[LightGBM] [Warning] No further splits with positive gain, best gain: -inf\n",
      "[LightGBM] [Warning] No further splits with positive gain, best gain: -inf\n",
      "[LightGBM] [Warning] No further splits with positive gain, best gain: -inf\n",
      "[LightGBM] [Warning] No further splits with positive gain, best gain: -inf\n",
      "[LightGBM] [Warning] No further splits with positive gain, best gain: -inf\n",
      "[LightGBM] [Warning] No further splits with positive gain, best gain: -inf\n",
      "[LightGBM] [Warning] No further splits with positive gain, best gain: -inf\n",
      "[LightGBM] [Warning] No further splits with positive gain, best gain: -inf\n",
      "[LightGBM] [Warning] No further splits with positive gain, best gain: -inf\n",
      "[LightGBM] [Warning] No further splits with positive gain, best gain: -inf\n",
      "[LightGBM] [Warning] No further splits with positive gain, best gain: -inf\n",
      "[LightGBM] [Warning] No further splits with positive gain, best gain: -inf\n",
      "[LightGBM] [Warning] No further splits with positive gain, best gain: -inf\n",
      "[LightGBM] [Warning] No further splits with positive gain, best gain: -inf\n",
      "[LightGBM] [Warning] No further splits with positive gain, best gain: -inf\n",
      "[LightGBM] [Warning] No further splits with positive gain, best gain: -inf\n",
      "[LightGBM] [Warning] No further splits with positive gain, best gain: -inf\n",
      "[LightGBM] [Warning] No further splits with positive gain, best gain: -inf\n",
      "[LightGBM] [Warning] No further splits with positive gain, best gain: -inf\n",
      "[LightGBM] [Warning] No further splits with positive gain, best gain: -inf\n",
      "[LightGBM] [Warning] No further splits with positive gain, best gain: -inf\n",
      "[LightGBM] [Warning] No further splits with positive gain, best gain: -inf\n",
      "[LightGBM] [Warning] No further splits with positive gain, best gain: -inf\n",
      "[LightGBM] [Warning] No further splits with positive gain, best gain: -inf\n",
      "[LightGBM] [Warning] No further splits with positive gain, best gain: -inf\n",
      "[LightGBM] [Warning] No further splits with positive gain, best gain: -inf\n",
      "[LightGBM] [Warning] No further splits with positive gain, best gain: -inf\n",
      "[LightGBM] [Warning] No further splits with positive gain, best gain: -inf\n",
      "[LightGBM] [Warning] No further splits with positive gain, best gain: -inf\n",
      "[LightGBM] [Warning] No further splits with positive gain, best gain: -inf\n",
      "[LightGBM] [Warning] No further splits with positive gain, best gain: -inf\n",
      "[LightGBM] [Warning] No further splits with positive gain, best gain: -inf\n",
      "[LightGBM] [Warning] No further splits with positive gain, best gain: -inf\n",
      "[LightGBM] [Warning] No further splits with positive gain, best gain: -inf\n",
      "[LightGBM] [Warning] No further splits with positive gain, best gain: -inf\n",
      "[LightGBM] [Warning] No further splits with positive gain, best gain: -inf\n",
      "[LightGBM] [Warning] No further splits with positive gain, best gain: -inf\n",
      "[LightGBM] [Warning] No further splits with positive gain, best gain: -inf\n",
      "[LightGBM] [Warning] No further splits with positive gain, best gain: -inf\n",
      "[LightGBM] [Warning] No further splits with positive gain, best gain: -inf\n",
      "[LightGBM] [Warning] No further splits with positive gain, best gain: -inf\n",
      "[LightGBM] [Warning] No further splits with positive gain, best gain: -inf\n",
      "[LightGBM] [Warning] No further splits with positive gain, best gain: -inf\n",
      "LGBMRegressor\n",
      "MSE: 5.3982, RMSE: 2.3234, MSLE: 0.0007, RMSLE: 0.0263, R2: 0.6800\n"
     ]
    }
   ],
   "source": [
    "from sklearn.model_selection import train_test_split\n",
    "from sklearn.tree import DecisionTreeRegressor\n",
    "from sklearn.ensemble import RandomForestRegressor, GradientBoostingRegressor\n",
    "from xgboost import XGBRegressor\n",
    "from lightgbm import LGBMRegressor\n",
    "\n",
    "features, targets = pre_df.iloc[:,:-1], pre_df.iloc[:, -1]\n",
    "\n",
    "X_train, X_test, y_train, y_test = \\\n",
    "train_test_split(features, targets, test_size=0.2, random_state=105)\n",
    "\n",
    "dt_r = DecisionTreeRegressor(random_state=105)\n",
    "rf_r = RandomForestRegressor(random_state=105, n_estimators=105)\n",
    "gb_r = GradientBoostingRegressor(random_state=105)\n",
    "xgb_r = XGBRegressor()\n",
    "lgb_r = LGBMRegressor(n_estimators=100)\n",
    "\n",
    "models = [dt_r, rf_r, gb_r, xgb_r, lgb_r]\n",
    "for model in models:\n",
    "    model.fit(X_train, y_train)\n",
    "    prediction = model.predict(X_test)\n",
    "    print(model.__class__.__name__)\n",
    "    get_evaluation(y_test, prediction)"
   ]
  },
  {
   "cell_type": "code",
   "execution_count": 20,
   "id": "c31a9939",
   "metadata": {
    "execution": {
     "iopub.execute_input": "2024-05-01T11:58:19.720281Z",
     "iopub.status.busy": "2024-05-01T11:58:19.719341Z",
     "iopub.status.idle": "2024-05-01T11:58:19.744967Z",
     "shell.execute_reply": "2024-05-01T11:58:19.743434Z"
    },
    "papermill": {
     "duration": 0.047489,
     "end_time": "2024-05-01T11:58:19.747631",
     "exception": false,
     "start_time": "2024-05-01T11:58:19.700142",
     "status": "completed"
    },
    "tags": []
   },
   "outputs": [
    {
     "data": {
      "text/html": [
       "<style>#sk-container-id-2 {color: black;background-color: white;}#sk-container-id-2 pre{padding: 0;}#sk-container-id-2 div.sk-toggleable {background-color: white;}#sk-container-id-2 label.sk-toggleable__label {cursor: pointer;display: block;width: 100%;margin-bottom: 0;padding: 0.3em;box-sizing: border-box;text-align: center;}#sk-container-id-2 label.sk-toggleable__label-arrow:before {content: \"▸\";float: left;margin-right: 0.25em;color: #696969;}#sk-container-id-2 label.sk-toggleable__label-arrow:hover:before {color: black;}#sk-container-id-2 div.sk-estimator:hover label.sk-toggleable__label-arrow:before {color: black;}#sk-container-id-2 div.sk-toggleable__content {max-height: 0;max-width: 0;overflow: hidden;text-align: left;background-color: #f0f8ff;}#sk-container-id-2 div.sk-toggleable__content pre {margin: 0.2em;color: black;border-radius: 0.25em;background-color: #f0f8ff;}#sk-container-id-2 input.sk-toggleable__control:checked~div.sk-toggleable__content {max-height: 200px;max-width: 100%;overflow: auto;}#sk-container-id-2 input.sk-toggleable__control:checked~label.sk-toggleable__label-arrow:before {content: \"▾\";}#sk-container-id-2 div.sk-estimator input.sk-toggleable__control:checked~label.sk-toggleable__label {background-color: #d4ebff;}#sk-container-id-2 div.sk-label input.sk-toggleable__control:checked~label.sk-toggleable__label {background-color: #d4ebff;}#sk-container-id-2 input.sk-hidden--visually {border: 0;clip: rect(1px 1px 1px 1px);clip: rect(1px, 1px, 1px, 1px);height: 1px;margin: -1px;overflow: hidden;padding: 0;position: absolute;width: 1px;}#sk-container-id-2 div.sk-estimator {font-family: monospace;background-color: #f0f8ff;border: 1px dotted black;border-radius: 0.25em;box-sizing: border-box;margin-bottom: 0.5em;}#sk-container-id-2 div.sk-estimator:hover {background-color: #d4ebff;}#sk-container-id-2 div.sk-parallel-item::after {content: \"\";width: 100%;border-bottom: 1px solid gray;flex-grow: 1;}#sk-container-id-2 div.sk-label:hover label.sk-toggleable__label {background-color: #d4ebff;}#sk-container-id-2 div.sk-serial::before {content: \"\";position: absolute;border-left: 1px solid gray;box-sizing: border-box;top: 0;bottom: 0;left: 50%;z-index: 0;}#sk-container-id-2 div.sk-serial {display: flex;flex-direction: column;align-items: center;background-color: white;padding-right: 0.2em;padding-left: 0.2em;position: relative;}#sk-container-id-2 div.sk-item {position: relative;z-index: 1;}#sk-container-id-2 div.sk-parallel {display: flex;align-items: stretch;justify-content: center;background-color: white;position: relative;}#sk-container-id-2 div.sk-item::before, #sk-container-id-2 div.sk-parallel-item::before {content: \"\";position: absolute;border-left: 1px solid gray;box-sizing: border-box;top: 0;bottom: 0;left: 50%;z-index: -1;}#sk-container-id-2 div.sk-parallel-item {display: flex;flex-direction: column;z-index: 1;position: relative;background-color: white;}#sk-container-id-2 div.sk-parallel-item:first-child::after {align-self: flex-end;width: 50%;}#sk-container-id-2 div.sk-parallel-item:last-child::after {align-self: flex-start;width: 50%;}#sk-container-id-2 div.sk-parallel-item:only-child::after {width: 0;}#sk-container-id-2 div.sk-dashed-wrapped {border: 1px dashed gray;margin: 0 0.4em 0.5em 0.4em;box-sizing: border-box;padding-bottom: 0.4em;background-color: white;}#sk-container-id-2 div.sk-label label {font-family: monospace;font-weight: bold;display: inline-block;line-height: 1.2em;}#sk-container-id-2 div.sk-label-container {text-align: center;}#sk-container-id-2 div.sk-container {/* jupyter's `normalize.less` sets `[hidden] { display: none; }` but bootstrap.min.css set `[hidden] { display: none !important; }` so we also need the `!important` here to be able to override the default hidden behavior on the sphinx rendered scikit-learn.org. See: https://github.com/scikit-learn/scikit-learn/issues/21755 */display: inline-block !important;position: relative;}#sk-container-id-2 div.sk-text-repr-fallback {display: none;}</style><div id=\"sk-container-id-2\" class=\"sk-top-container\"><div class=\"sk-text-repr-fallback\"><pre>LinearRegression()</pre><b>In a Jupyter environment, please rerun this cell to show the HTML representation or trust the notebook. <br />On GitHub, the HTML representation is unable to render, please try loading this page with nbviewer.org.</b></div><div class=\"sk-container\" hidden><div class=\"sk-item\"><div class=\"sk-estimator sk-toggleable\"><input class=\"sk-toggleable__control sk-hidden--visually\" id=\"sk-estimator-id-2\" type=\"checkbox\" checked><label for=\"sk-estimator-id-2\" class=\"sk-toggleable__label sk-toggleable__label-arrow\">LinearRegression</label><div class=\"sk-toggleable__content\"><pre>LinearRegression()</pre></div></div></div></div></div>"
      ],
      "text/plain": [
       "LinearRegression()"
      ]
     },
     "execution_count": 20,
     "metadata": {},
     "output_type": "execute_result"
    }
   ],
   "source": [
    "from sklearn.preprocessing import PolynomialFeatures\n",
    "\n",
    "poly_features = PolynomialFeatures(degree=2).fit_transform(features)\n",
    "\n",
    "features, targets = pre_df.iloc[:,:-1], pre_df.iloc[:, -1]\n",
    "\n",
    "X_train, X_test, y_train, y_test = \\\n",
    "train_test_split(poly_features, targets, test_size=0.2, random_state=105)\n",
    "\n",
    "l_r = LinearRegression()\n",
    "l_r.fit(X_train, y_train)"
   ]
  },
  {
   "cell_type": "code",
   "execution_count": 21,
   "id": "1a855882",
   "metadata": {
    "execution": {
     "iopub.execute_input": "2024-05-01T11:58:19.787847Z",
     "iopub.status.busy": "2024-05-01T11:58:19.786525Z",
     "iopub.status.idle": "2024-05-01T11:58:19.798466Z",
     "shell.execute_reply": "2024-05-01T11:58:19.797005Z"
    },
    "papermill": {
     "duration": 0.035599,
     "end_time": "2024-05-01T11:58:19.801092",
     "exception": false,
     "start_time": "2024-05-01T11:58:19.765493",
     "status": "completed"
    },
    "tags": []
   },
   "outputs": [],
   "source": [
    "import numpy as np\n",
    "from sklearn.metrics import mean_squared_log_error, mean_squared_error, r2_score\n",
    "\n",
    "def get_evaluation(y_test, prediction):\n",
    "    MSE = mean_squared_error(y_test, prediction)\n",
    "    RMSE = np.sqrt(MSE)\n",
    "    MSLE = mean_squared_log_error(y_test, prediction)\n",
    "    RMSLE = np.sqrt(mean_squared_log_error(y_test, prediction))\n",
    "    R2 = r2_score(y_test, prediction)\n",
    "    print('MSE: {:.4f}, RMSE: {:.4f}, MSLE: {:.4f}, RMSLE: {:.4f}, R2: {:.4f}'\\\n",
    "          .format(MSE, RMSE, MSLE, RMSLE, R2))"
   ]
  },
  {
   "cell_type": "code",
   "execution_count": 22,
   "id": "fe60fe08",
   "metadata": {
    "execution": {
     "iopub.execute_input": "2024-05-01T11:58:19.839799Z",
     "iopub.status.busy": "2024-05-01T11:58:19.838411Z",
     "iopub.status.idle": "2024-05-01T11:58:19.852221Z",
     "shell.execute_reply": "2024-05-01T11:58:19.850773Z"
    },
    "papermill": {
     "duration": 0.036026,
     "end_time": "2024-05-01T11:58:19.855275",
     "exception": false,
     "start_time": "2024-05-01T11:58:19.819249",
     "status": "completed"
    },
    "tags": []
   },
   "outputs": [
    {
     "name": "stdout",
     "output_type": "stream",
     "text": [
      "MSE: 31.2893, RMSE: 5.5937, MSLE: 0.0038, RMSLE: 0.0614, R2: -0.8545\n"
     ]
    }
   ],
   "source": [
    "prediction = l_r.predict(X_test)\n",
    "get_evaluation(y_test, prediction)"
   ]
  },
  {
   "cell_type": "code",
   "execution_count": 23,
   "id": "e3b2d8a9",
   "metadata": {
    "execution": {
     "iopub.execute_input": "2024-05-01T11:58:19.894766Z",
     "iopub.status.busy": "2024-05-01T11:58:19.893982Z",
     "iopub.status.idle": "2024-05-01T11:58:49.536820Z",
     "shell.execute_reply": "2024-05-01T11:58:49.535586Z"
    },
    "papermill": {
     "duration": 29.665339,
     "end_time": "2024-05-01T11:58:49.539612",
     "exception": false,
     "start_time": "2024-05-01T11:58:19.874273",
     "status": "completed"
    },
    "tags": []
   },
   "outputs": [
    {
     "data": {
      "text/html": [
       "<style>#sk-container-id-3 {color: black;background-color: white;}#sk-container-id-3 pre{padding: 0;}#sk-container-id-3 div.sk-toggleable {background-color: white;}#sk-container-id-3 label.sk-toggleable__label {cursor: pointer;display: block;width: 100%;margin-bottom: 0;padding: 0.3em;box-sizing: border-box;text-align: center;}#sk-container-id-3 label.sk-toggleable__label-arrow:before {content: \"▸\";float: left;margin-right: 0.25em;color: #696969;}#sk-container-id-3 label.sk-toggleable__label-arrow:hover:before {color: black;}#sk-container-id-3 div.sk-estimator:hover label.sk-toggleable__label-arrow:before {color: black;}#sk-container-id-3 div.sk-toggleable__content {max-height: 0;max-width: 0;overflow: hidden;text-align: left;background-color: #f0f8ff;}#sk-container-id-3 div.sk-toggleable__content pre {margin: 0.2em;color: black;border-radius: 0.25em;background-color: #f0f8ff;}#sk-container-id-3 input.sk-toggleable__control:checked~div.sk-toggleable__content {max-height: 200px;max-width: 100%;overflow: auto;}#sk-container-id-3 input.sk-toggleable__control:checked~label.sk-toggleable__label-arrow:before {content: \"▾\";}#sk-container-id-3 div.sk-estimator input.sk-toggleable__control:checked~label.sk-toggleable__label {background-color: #d4ebff;}#sk-container-id-3 div.sk-label input.sk-toggleable__control:checked~label.sk-toggleable__label {background-color: #d4ebff;}#sk-container-id-3 input.sk-hidden--visually {border: 0;clip: rect(1px 1px 1px 1px);clip: rect(1px, 1px, 1px, 1px);height: 1px;margin: -1px;overflow: hidden;padding: 0;position: absolute;width: 1px;}#sk-container-id-3 div.sk-estimator {font-family: monospace;background-color: #f0f8ff;border: 1px dotted black;border-radius: 0.25em;box-sizing: border-box;margin-bottom: 0.5em;}#sk-container-id-3 div.sk-estimator:hover {background-color: #d4ebff;}#sk-container-id-3 div.sk-parallel-item::after {content: \"\";width: 100%;border-bottom: 1px solid gray;flex-grow: 1;}#sk-container-id-3 div.sk-label:hover label.sk-toggleable__label {background-color: #d4ebff;}#sk-container-id-3 div.sk-serial::before {content: \"\";position: absolute;border-left: 1px solid gray;box-sizing: border-box;top: 0;bottom: 0;left: 50%;z-index: 0;}#sk-container-id-3 div.sk-serial {display: flex;flex-direction: column;align-items: center;background-color: white;padding-right: 0.2em;padding-left: 0.2em;position: relative;}#sk-container-id-3 div.sk-item {position: relative;z-index: 1;}#sk-container-id-3 div.sk-parallel {display: flex;align-items: stretch;justify-content: center;background-color: white;position: relative;}#sk-container-id-3 div.sk-item::before, #sk-container-id-3 div.sk-parallel-item::before {content: \"\";position: absolute;border-left: 1px solid gray;box-sizing: border-box;top: 0;bottom: 0;left: 50%;z-index: -1;}#sk-container-id-3 div.sk-parallel-item {display: flex;flex-direction: column;z-index: 1;position: relative;background-color: white;}#sk-container-id-3 div.sk-parallel-item:first-child::after {align-self: flex-end;width: 50%;}#sk-container-id-3 div.sk-parallel-item:last-child::after {align-self: flex-start;width: 50%;}#sk-container-id-3 div.sk-parallel-item:only-child::after {width: 0;}#sk-container-id-3 div.sk-dashed-wrapped {border: 1px dashed gray;margin: 0 0.4em 0.5em 0.4em;box-sizing: border-box;padding-bottom: 0.4em;background-color: white;}#sk-container-id-3 div.sk-label label {font-family: monospace;font-weight: bold;display: inline-block;line-height: 1.2em;}#sk-container-id-3 div.sk-label-container {text-align: center;}#sk-container-id-3 div.sk-container {/* jupyter's `normalize.less` sets `[hidden] { display: none; }` but bootstrap.min.css set `[hidden] { display: none !important; }` so we also need the `!important` here to be able to override the default hidden behavior on the sphinx rendered scikit-learn.org. See: https://github.com/scikit-learn/scikit-learn/issues/21755 */display: inline-block !important;position: relative;}#sk-container-id-3 div.sk-text-repr-fallback {display: none;}</style><div id=\"sk-container-id-3\" class=\"sk-top-container\"><div class=\"sk-text-repr-fallback\"><pre>GridSearchCV(cv=KFold(n_splits=10, random_state=105, shuffle=True),\n",
       "             estimator=RandomForestRegressor(random_state=105),\n",
       "             param_grid={&#x27;max_depth&#x27;: [1, 2, 3], &#x27;min_samples_split&#x27;: [5, 6, 7],\n",
       "                         &#x27;n_estimators&#x27;: [10, 50, 100]},\n",
       "             scoring=&#x27;r2&#x27;)</pre><b>In a Jupyter environment, please rerun this cell to show the HTML representation or trust the notebook. <br />On GitHub, the HTML representation is unable to render, please try loading this page with nbviewer.org.</b></div><div class=\"sk-container\" hidden><div class=\"sk-item sk-dashed-wrapped\"><div class=\"sk-label-container\"><div class=\"sk-label sk-toggleable\"><input class=\"sk-toggleable__control sk-hidden--visually\" id=\"sk-estimator-id-3\" type=\"checkbox\" ><label for=\"sk-estimator-id-3\" class=\"sk-toggleable__label sk-toggleable__label-arrow\">GridSearchCV</label><div class=\"sk-toggleable__content\"><pre>GridSearchCV(cv=KFold(n_splits=10, random_state=105, shuffle=True),\n",
       "             estimator=RandomForestRegressor(random_state=105),\n",
       "             param_grid={&#x27;max_depth&#x27;: [1, 2, 3], &#x27;min_samples_split&#x27;: [5, 6, 7],\n",
       "                         &#x27;n_estimators&#x27;: [10, 50, 100]},\n",
       "             scoring=&#x27;r2&#x27;)</pre></div></div></div><div class=\"sk-parallel\"><div class=\"sk-parallel-item\"><div class=\"sk-item\"><div class=\"sk-label-container\"><div class=\"sk-label sk-toggleable\"><input class=\"sk-toggleable__control sk-hidden--visually\" id=\"sk-estimator-id-4\" type=\"checkbox\" ><label for=\"sk-estimator-id-4\" class=\"sk-toggleable__label sk-toggleable__label-arrow\">estimator: RandomForestRegressor</label><div class=\"sk-toggleable__content\"><pre>RandomForestRegressor(random_state=105)</pre></div></div></div><div class=\"sk-serial\"><div class=\"sk-item\"><div class=\"sk-estimator sk-toggleable\"><input class=\"sk-toggleable__control sk-hidden--visually\" id=\"sk-estimator-id-5\" type=\"checkbox\" ><label for=\"sk-estimator-id-5\" class=\"sk-toggleable__label sk-toggleable__label-arrow\">RandomForestRegressor</label><div class=\"sk-toggleable__content\"><pre>RandomForestRegressor(random_state=105)</pre></div></div></div></div></div></div></div></div></div></div>"
      ],
      "text/plain": [
       "GridSearchCV(cv=KFold(n_splits=10, random_state=105, shuffle=True),\n",
       "             estimator=RandomForestRegressor(random_state=105),\n",
       "             param_grid={'max_depth': [1, 2, 3], 'min_samples_split': [5, 6, 7],\n",
       "                         'n_estimators': [10, 50, 100]},\n",
       "             scoring='r2')"
      ]
     },
     "execution_count": 23,
     "metadata": {},
     "output_type": "execute_result"
    }
   ],
   "source": [
    "from sklearn.model_selection import GridSearchCV\n",
    "from sklearn.ensemble import RandomForestRegressor\n",
    "from sklearn.model_selection import train_test_split\n",
    "from sklearn.model_selection import KFold\n",
    "\n",
    "X_train, X_test, y_train, y_test = \\\n",
    "train_test_split(features, targets, test_size=0.2, random_state=105)\n",
    "\n",
    "rf_r = RandomForestRegressor(random_state=105)\n",
    "\n",
    "parameters = {'max_depth': [1,2,3], 'min_samples_split': [5,6,7], 'n_estimators': [10, 50, 100]}\n",
    "kfold = KFold(n_splits=10, random_state=105, shuffle=True)\n",
    "\n",
    "# grid_rf_r = GridSearchCV(rf_r, param_grid=parameters, scoring='neg_mean_squared_error', cv=kfold)\n",
    "grid_rf_r = GridSearchCV(rf_r, param_grid=parameters, scoring='r2', cv=kfold)\n",
    "grid_rf_r.fit(X_train, y_train)"
   ]
  },
  {
   "cell_type": "code",
   "execution_count": 24,
   "id": "2a51fd43",
   "metadata": {
    "execution": {
     "iopub.execute_input": "2024-05-01T11:58:49.578134Z",
     "iopub.status.busy": "2024-05-01T11:58:49.577727Z",
     "iopub.status.idle": "2024-05-01T11:58:49.594145Z",
     "shell.execute_reply": "2024-05-01T11:58:49.592533Z"
    },
    "papermill": {
     "duration": 0.039175,
     "end_time": "2024-05-01T11:58:49.597047",
     "exception": false,
     "start_time": "2024-05-01T11:58:49.557872",
     "status": "completed"
    },
    "tags": []
   },
   "outputs": [
    {
     "name": "stdout",
     "output_type": "stream",
     "text": [
      "MSE: 6.1388, RMSE: 2.4777, MSLE: 0.0008, RMSLE: 0.0282, R2: 0.6362\n"
     ]
    }
   ],
   "source": [
    "prediction = grid_rf_r.predict(X_test)\n",
    "get_evaluation(y_test, prediction)"
   ]
  },
  {
   "cell_type": "code",
   "execution_count": 25,
   "id": "c44f4339",
   "metadata": {
    "execution": {
     "iopub.execute_input": "2024-05-01T11:58:49.635109Z",
     "iopub.status.busy": "2024-05-01T11:58:49.634722Z",
     "iopub.status.idle": "2024-05-01T11:58:51.296723Z",
     "shell.execute_reply": "2024-05-01T11:58:51.295455Z"
    },
    "papermill": {
     "duration": 1.684085,
     "end_time": "2024-05-01T11:58:51.299148",
     "exception": false,
     "start_time": "2024-05-01T11:58:49.615063",
     "status": "completed"
    },
    "tags": []
   },
   "outputs": [
    {
     "name": "stdout",
     "output_type": "stream",
     "text": [
      "                                 OLS Regression Results                                \n",
      "=======================================================================================\n",
      "Dep. Variable:               totlngth   R-squared (uncentered):                   0.999\n",
      "Model:                            OLS   Adj. R-squared (uncentered):              0.999\n",
      "Method:                 Least Squares   F-statistic:                          1.730e+04\n",
      "Date:                Wed, 01 May 2024   Prob (F-statistic):                   1.39e-144\n",
      "Time:                        11:58:51   Log-Likelihood:                         -213.50\n",
      "No. Observations:                 101   AIC:                                      447.0\n",
      "Df Residuals:                      91   BIC:                                      473.1\n",
      "Df Model:                          10                                                  \n",
      "Covariance Type:            nonrobust                                                  \n",
      "==============================================================================\n",
      "                 coef    std err          t      P>|t|      [0.025      0.975]\n",
      "------------------------------------------------------------------------------\n",
      "site          -0.7688      0.163     -4.706      0.000      -1.093      -0.444\n",
      "age            0.0225      0.121      0.186      0.853      -0.218       0.263\n",
      "hdlngth        0.4323      0.096      4.506      0.000       0.242       0.623\n",
      "skullw         0.0255      0.105      0.243      0.808      -0.182       0.233\n",
      "taill          1.2697      0.129      9.806      0.000       1.013       1.527\n",
      "footlgth       0.1080      0.102      1.055      0.294      -0.095       0.311\n",
      "earconch      -0.1011      0.092     -1.095      0.276      -0.285       0.082\n",
      "eye           -0.1696      0.221     -0.767      0.445      -0.609       0.270\n",
      "chest          0.0842      0.170      0.495      0.622      -0.253       0.422\n",
      "belly         -0.0251      0.106     -0.236      0.814      -0.236       0.186\n",
      "==============================================================================\n",
      "Omnibus:                        6.115   Durbin-Watson:                   2.027\n",
      "Prob(Omnibus):                  0.047   Jarque-Bera (JB):                5.499\n",
      "Skew:                          -0.512   Prob(JB):                       0.0640\n",
      "Kurtosis:                       3.508   Cond. No.                         172.\n",
      "==============================================================================\n",
      "\n",
      "Notes:\n",
      "[1] R² is computed without centering (uncentered) since the model does not contain a constant.\n",
      "[2] Standard Errors assume that the covariance matrix of the errors is correctly specified.\n"
     ]
    }
   ],
   "source": [
    "from statsmodels.api import OLS\n",
    "\n",
    "features, targets = pre_df.iloc[:, :-1], pre_df.iloc[:, -1]\n",
    "\n",
    "model = OLS(targets, features)\n",
    "print(model.fit().summary())"
   ]
  },
  {
   "cell_type": "code",
   "execution_count": 26,
   "id": "b46a4547",
   "metadata": {
    "execution": {
     "iopub.execute_input": "2024-05-01T11:58:51.339050Z",
     "iopub.status.busy": "2024-05-01T11:58:51.337730Z",
     "iopub.status.idle": "2024-05-01T11:58:51.356423Z",
     "shell.execute_reply": "2024-05-01T11:58:51.355328Z"
    },
    "papermill": {
     "duration": 0.041183,
     "end_time": "2024-05-01T11:58:51.359060",
     "exception": false,
     "start_time": "2024-05-01T11:58:51.317877",
     "status": "completed"
    },
    "tags": []
   },
   "outputs": [],
   "source": [
    "from statsmodels.stats.outliers_influence import variance_inflation_factor\n",
    "\n",
    "def get_vif(features):\n",
    "    vif = pd.DataFrame()\n",
    "    vif['vif_score'] = [variance_inflation_factor(features.values, i) for i in range(features.shape[1])]\n",
    "    vif['feature'] = features.columns\n",
    "    return vif"
   ]
  },
  {
   "cell_type": "code",
   "execution_count": 27,
   "id": "25441a7f",
   "metadata": {
    "execution": {
     "iopub.execute_input": "2024-05-01T11:58:51.397804Z",
     "iopub.status.busy": "2024-05-01T11:58:51.397383Z",
     "iopub.status.idle": "2024-05-01T11:58:51.419778Z",
     "shell.execute_reply": "2024-05-01T11:58:51.418470Z"
    },
    "papermill": {
     "duration": 0.044605,
     "end_time": "2024-05-01T11:58:51.422130",
     "exception": false,
     "start_time": "2024-05-01T11:58:51.377525",
     "status": "completed"
    },
    "tags": []
   },
   "outputs": [
    {
     "data": {
      "text/html": [
       "<div>\n",
       "<style scoped>\n",
       "    .dataframe tbody tr th:only-of-type {\n",
       "        vertical-align: middle;\n",
       "    }\n",
       "\n",
       "    .dataframe tbody tr th {\n",
       "        vertical-align: top;\n",
       "    }\n",
       "\n",
       "    .dataframe thead th {\n",
       "        text-align: right;\n",
       "    }\n",
       "</style>\n",
       "<table border=\"1\" class=\"dataframe\">\n",
       "  <thead>\n",
       "    <tr style=\"text-align: right;\">\n",
       "      <th></th>\n",
       "      <th>vif_score</th>\n",
       "      <th>feature</th>\n",
       "    </tr>\n",
       "  </thead>\n",
       "  <tbody>\n",
       "    <tr>\n",
       "      <th>0</th>\n",
       "      <td>11.521679</td>\n",
       "      <td>site</td>\n",
       "    </tr>\n",
       "    <tr>\n",
       "      <th>1</th>\n",
       "      <td>6.040647</td>\n",
       "      <td>age</td>\n",
       "    </tr>\n",
       "    <tr>\n",
       "      <th>2</th>\n",
       "      <td>1797.161404</td>\n",
       "      <td>hdlngth</td>\n",
       "    </tr>\n",
       "    <tr>\n",
       "      <th>3</th>\n",
       "      <td>808.007496</td>\n",
       "      <td>skullw</td>\n",
       "    </tr>\n",
       "    <tr>\n",
       "      <th>4</th>\n",
       "      <td>523.228737</td>\n",
       "      <td>taill</td>\n",
       "    </tr>\n",
       "    <tr>\n",
       "      <th>5</th>\n",
       "      <td>1115.116011</td>\n",
       "      <td>footlgth</td>\n",
       "    </tr>\n",
       "    <tr>\n",
       "      <th>6</th>\n",
       "      <td>450.983863</td>\n",
       "      <td>earconch</td>\n",
       "    </tr>\n",
       "    <tr>\n",
       "      <th>7</th>\n",
       "      <td>252.141310</td>\n",
       "      <td>eye</td>\n",
       "    </tr>\n",
       "    <tr>\n",
       "      <th>8</th>\n",
       "      <td>482.334935</td>\n",
       "      <td>chest</td>\n",
       "    </tr>\n",
       "    <tr>\n",
       "      <th>9</th>\n",
       "      <td>274.349540</td>\n",
       "      <td>belly</td>\n",
       "    </tr>\n",
       "  </tbody>\n",
       "</table>\n",
       "</div>"
      ],
      "text/plain": [
       "     vif_score   feature\n",
       "0    11.521679      site\n",
       "1     6.040647       age\n",
       "2  1797.161404   hdlngth\n",
       "3   808.007496    skullw\n",
       "4   523.228737     taill\n",
       "5  1115.116011  footlgth\n",
       "6   450.983863  earconch\n",
       "7   252.141310       eye\n",
       "8   482.334935     chest\n",
       "9   274.349540     belly"
      ]
     },
     "execution_count": 27,
     "metadata": {},
     "output_type": "execute_result"
    }
   ],
   "source": [
    "get_vif(features)"
   ]
  },
  {
   "cell_type": "markdown",
   "id": "eab46522",
   "metadata": {
    "papermill": {
     "duration": 0.018327,
     "end_time": "2024-05-01T11:58:51.459212",
     "exception": false,
     "start_time": "2024-05-01T11:58:51.440885",
     "status": "completed"
    },
    "tags": []
   },
   "source": [
    "### 💡 1 Cycle 결과\n",
    "> LinearRegression (선형회귀) 모델에서 R2 스코어가 0.8080으로 가장 높게 나왔다.\n",
    ">\n"
   ]
  },
  {
   "cell_type": "markdown",
   "id": "dba519ea",
   "metadata": {
    "papermill": {
     "duration": 0.018137,
     "end_time": "2024-05-01T11:58:51.496137",
     "exception": false,
     "start_time": "2024-05-01T11:58:51.478000",
     "status": "completed"
    },
    "tags": []
   },
   "source": [
    "### ✏️ 2 Cycle\n",
    "> 전처리 작업 및 일반화 작업 후 분석 "
   ]
  },
  {
   "cell_type": "code",
   "execution_count": 28,
   "id": "bbdd2fd1",
   "metadata": {
    "execution": {
     "iopub.execute_input": "2024-05-01T11:58:51.534721Z",
     "iopub.status.busy": "2024-05-01T11:58:51.534292Z",
     "iopub.status.idle": "2024-05-01T11:58:51.562953Z",
     "shell.execute_reply": "2024-05-01T11:58:51.561635Z"
    },
    "papermill": {
     "duration": 0.050767,
     "end_time": "2024-05-01T11:58:51.565240",
     "exception": false,
     "start_time": "2024-05-01T11:58:51.514473",
     "status": "completed"
    },
    "tags": []
   },
   "outputs": [
    {
     "data": {
      "text/html": [
       "<div>\n",
       "<style scoped>\n",
       "    .dataframe tbody tr th:only-of-type {\n",
       "        vertical-align: middle;\n",
       "    }\n",
       "\n",
       "    .dataframe tbody tr th {\n",
       "        vertical-align: top;\n",
       "    }\n",
       "\n",
       "    .dataframe thead th {\n",
       "        text-align: right;\n",
       "    }\n",
       "</style>\n",
       "<table border=\"1\" class=\"dataframe\">\n",
       "  <thead>\n",
       "    <tr style=\"text-align: right;\">\n",
       "      <th></th>\n",
       "      <th>site</th>\n",
       "      <th>age</th>\n",
       "      <th>hdlngth</th>\n",
       "      <th>skullw</th>\n",
       "      <th>taill</th>\n",
       "      <th>footlgth</th>\n",
       "      <th>earconch</th>\n",
       "      <th>eye</th>\n",
       "      <th>chest</th>\n",
       "      <th>belly</th>\n",
       "      <th>totlngth</th>\n",
       "    </tr>\n",
       "  </thead>\n",
       "  <tbody>\n",
       "    <tr>\n",
       "      <th>0</th>\n",
       "      <td>1</td>\n",
       "      <td>8.0</td>\n",
       "      <td>94.1</td>\n",
       "      <td>60.4</td>\n",
       "      <td>36.0</td>\n",
       "      <td>74.5</td>\n",
       "      <td>54.5</td>\n",
       "      <td>15.2</td>\n",
       "      <td>28.0</td>\n",
       "      <td>36.0</td>\n",
       "      <td>89.0</td>\n",
       "    </tr>\n",
       "    <tr>\n",
       "      <th>1</th>\n",
       "      <td>1</td>\n",
       "      <td>6.0</td>\n",
       "      <td>92.5</td>\n",
       "      <td>57.6</td>\n",
       "      <td>36.5</td>\n",
       "      <td>72.5</td>\n",
       "      <td>51.2</td>\n",
       "      <td>16.0</td>\n",
       "      <td>28.5</td>\n",
       "      <td>33.0</td>\n",
       "      <td>91.5</td>\n",
       "    </tr>\n",
       "    <tr>\n",
       "      <th>2</th>\n",
       "      <td>1</td>\n",
       "      <td>6.0</td>\n",
       "      <td>94.0</td>\n",
       "      <td>60.0</td>\n",
       "      <td>39.0</td>\n",
       "      <td>75.4</td>\n",
       "      <td>51.9</td>\n",
       "      <td>15.5</td>\n",
       "      <td>30.0</td>\n",
       "      <td>34.0</td>\n",
       "      <td>95.5</td>\n",
       "    </tr>\n",
       "    <tr>\n",
       "      <th>3</th>\n",
       "      <td>1</td>\n",
       "      <td>6.0</td>\n",
       "      <td>93.2</td>\n",
       "      <td>57.1</td>\n",
       "      <td>38.0</td>\n",
       "      <td>76.1</td>\n",
       "      <td>52.2</td>\n",
       "      <td>15.2</td>\n",
       "      <td>28.0</td>\n",
       "      <td>34.0</td>\n",
       "      <td>92.0</td>\n",
       "    </tr>\n",
       "    <tr>\n",
       "      <th>4</th>\n",
       "      <td>1</td>\n",
       "      <td>2.0</td>\n",
       "      <td>91.5</td>\n",
       "      <td>56.3</td>\n",
       "      <td>36.0</td>\n",
       "      <td>71.0</td>\n",
       "      <td>53.2</td>\n",
       "      <td>15.1</td>\n",
       "      <td>28.5</td>\n",
       "      <td>33.0</td>\n",
       "      <td>85.5</td>\n",
       "    </tr>\n",
       "    <tr>\n",
       "      <th>...</th>\n",
       "      <td>...</td>\n",
       "      <td>...</td>\n",
       "      <td>...</td>\n",
       "      <td>...</td>\n",
       "      <td>...</td>\n",
       "      <td>...</td>\n",
       "      <td>...</td>\n",
       "      <td>...</td>\n",
       "      <td>...</td>\n",
       "      <td>...</td>\n",
       "      <td>...</td>\n",
       "    </tr>\n",
       "    <tr>\n",
       "      <th>99</th>\n",
       "      <td>7</td>\n",
       "      <td>1.0</td>\n",
       "      <td>89.5</td>\n",
       "      <td>56.0</td>\n",
       "      <td>36.5</td>\n",
       "      <td>66.0</td>\n",
       "      <td>46.8</td>\n",
       "      <td>14.8</td>\n",
       "      <td>23.0</td>\n",
       "      <td>27.0</td>\n",
       "      <td>81.5</td>\n",
       "    </tr>\n",
       "    <tr>\n",
       "      <th>100</th>\n",
       "      <td>7</td>\n",
       "      <td>1.0</td>\n",
       "      <td>88.6</td>\n",
       "      <td>54.7</td>\n",
       "      <td>39.0</td>\n",
       "      <td>64.4</td>\n",
       "      <td>48.0</td>\n",
       "      <td>14.0</td>\n",
       "      <td>25.0</td>\n",
       "      <td>33.0</td>\n",
       "      <td>82.5</td>\n",
       "    </tr>\n",
       "    <tr>\n",
       "      <th>101</th>\n",
       "      <td>7</td>\n",
       "      <td>6.0</td>\n",
       "      <td>92.4</td>\n",
       "      <td>55.0</td>\n",
       "      <td>38.0</td>\n",
       "      <td>63.5</td>\n",
       "      <td>45.4</td>\n",
       "      <td>13.0</td>\n",
       "      <td>25.0</td>\n",
       "      <td>30.0</td>\n",
       "      <td>89.0</td>\n",
       "    </tr>\n",
       "    <tr>\n",
       "      <th>102</th>\n",
       "      <td>7</td>\n",
       "      <td>4.0</td>\n",
       "      <td>91.5</td>\n",
       "      <td>55.2</td>\n",
       "      <td>36.5</td>\n",
       "      <td>62.9</td>\n",
       "      <td>45.9</td>\n",
       "      <td>15.4</td>\n",
       "      <td>25.0</td>\n",
       "      <td>29.0</td>\n",
       "      <td>82.5</td>\n",
       "    </tr>\n",
       "    <tr>\n",
       "      <th>103</th>\n",
       "      <td>7</td>\n",
       "      <td>3.0</td>\n",
       "      <td>93.6</td>\n",
       "      <td>59.9</td>\n",
       "      <td>40.0</td>\n",
       "      <td>67.6</td>\n",
       "      <td>46.0</td>\n",
       "      <td>14.8</td>\n",
       "      <td>28.5</td>\n",
       "      <td>33.5</td>\n",
       "      <td>89.0</td>\n",
       "    </tr>\n",
       "  </tbody>\n",
       "</table>\n",
       "<p>101 rows × 11 columns</p>\n",
       "</div>"
      ],
      "text/plain": [
       "     site  age  hdlngth  skullw  taill  footlgth  earconch   eye  chest  \\\n",
       "0       1  8.0     94.1    60.4   36.0      74.5      54.5  15.2   28.0   \n",
       "1       1  6.0     92.5    57.6   36.5      72.5      51.2  16.0   28.5   \n",
       "2       1  6.0     94.0    60.0   39.0      75.4      51.9  15.5   30.0   \n",
       "3       1  6.0     93.2    57.1   38.0      76.1      52.2  15.2   28.0   \n",
       "4       1  2.0     91.5    56.3   36.0      71.0      53.2  15.1   28.5   \n",
       "..    ...  ...      ...     ...    ...       ...       ...   ...    ...   \n",
       "99      7  1.0     89.5    56.0   36.5      66.0      46.8  14.8   23.0   \n",
       "100     7  1.0     88.6    54.7   39.0      64.4      48.0  14.0   25.0   \n",
       "101     7  6.0     92.4    55.0   38.0      63.5      45.4  13.0   25.0   \n",
       "102     7  4.0     91.5    55.2   36.5      62.9      45.9  15.4   25.0   \n",
       "103     7  3.0     93.6    59.9   40.0      67.6      46.0  14.8   28.5   \n",
       "\n",
       "     belly  totlngth  \n",
       "0     36.0      89.0  \n",
       "1     33.0      91.5  \n",
       "2     34.0      95.5  \n",
       "3     34.0      92.0  \n",
       "4     33.0      85.5  \n",
       "..     ...       ...  \n",
       "99    27.0      81.5  \n",
       "100   33.0      82.5  \n",
       "101   30.0      89.0  \n",
       "102   29.0      82.5  \n",
       "103   33.5      89.0  \n",
       "\n",
       "[101 rows x 11 columns]"
      ]
     },
     "execution_count": 28,
     "metadata": {},
     "output_type": "execute_result"
    }
   ],
   "source": [
    "pre_df"
   ]
  },
  {
   "cell_type": "code",
   "execution_count": 29,
   "id": "780d5242",
   "metadata": {
    "execution": {
     "iopub.execute_input": "2024-05-01T11:58:51.606122Z",
     "iopub.status.busy": "2024-05-01T11:58:51.605406Z",
     "iopub.status.idle": "2024-05-01T11:58:54.003995Z",
     "shell.execute_reply": "2024-05-01T11:58:54.002816Z"
    },
    "papermill": {
     "duration": 2.421902,
     "end_time": "2024-05-01T11:58:54.006262",
     "exception": false,
     "start_time": "2024-05-01T11:58:51.584360",
     "status": "completed"
    },
    "tags": []
   },
   "outputs": [
    {
     "data": {
      "text/plain": [
       "array([[<Axes: title={'center': 'site'}>,\n",
       "        <Axes: title={'center': 'age'}>,\n",
       "        <Axes: title={'center': 'hdlngth'}>],\n",
       "       [<Axes: title={'center': 'skullw'}>,\n",
       "        <Axes: title={'center': 'taill'}>,\n",
       "        <Axes: title={'center': 'footlgth'}>],\n",
       "       [<Axes: title={'center': 'earconch'}>,\n",
       "        <Axes: title={'center': 'eye'}>,\n",
       "        <Axes: title={'center': 'chest'}>],\n",
       "       [<Axes: title={'center': 'belly'}>,\n",
       "        <Axes: title={'center': 'totlngth'}>, <Axes: >]], dtype=object)"
      ]
     },
     "execution_count": 29,
     "metadata": {},
     "output_type": "execute_result"
    },
    {
     "data": {
      "image/png": "[encoded data removed]",
      "text/plain": [
       "<Figure size 1000x1000 with 12 Axes>"
      ]
     },
     "metadata": {},
     "output_type": "display_data"
    }
   ],
   "source": [
    "pre_df.hist(figsize=(10, 10))"
   ]
  },
  {
   "cell_type": "code",
   "execution_count": 30,
   "id": "5a19a000",
   "metadata": {
    "execution": {
     "iopub.execute_input": "2024-05-01T11:58:54.048166Z",
     "iopub.status.busy": "2024-05-01T11:58:54.047438Z",
     "iopub.status.idle": "2024-05-01T11:58:56.133960Z",
     "shell.execute_reply": "2024-05-01T11:58:56.132851Z"
    },
    "papermill": {
     "duration": 2.110462,
     "end_time": "2024-05-01T11:58:56.136334",
     "exception": false,
     "start_time": "2024-05-01T11:58:54.025872",
     "status": "completed"
    },
    "tags": []
   },
   "outputs": [
    {
     "data": {
      "text/plain": [
       "array([[<Axes: title={'center': 'site'}>,\n",
       "        <Axes: title={'center': 'age'}>,\n",
       "        <Axes: title={'center': 'hdlngth'}>],\n",
       "       [<Axes: title={'center': 'skullw'}>,\n",
       "        <Axes: title={'center': 'taill'}>,\n",
       "        <Axes: title={'center': 'footlgth'}>],\n",
       "       [<Axes: title={'center': 'earconch'}>,\n",
       "        <Axes: title={'center': 'eye'}>,\n",
       "        <Axes: title={'center': 'chest'}>],\n",
       "       [<Axes: title={'center': 'belly'}>,\n",
       "        <Axes: title={'center': 'totlngth'}>, <Axes: >]], dtype=object)"
      ]
     },
     "execution_count": 30,
     "metadata": {},
     "output_type": "execute_result"
    },
    {
     "data": {
      "image/png": "[encoded data removed]",
      "text/plain": [
       "<Figure size 1000x1000 with 12 Axes>"
      ]
     },
     "metadata": {},
     "output_type": "display_data"
    }
   ],
   "source": [
    "np.log1p(pre_df).hist(figsize=(10,10))"
   ]
  },
  {
   "cell_type": "code",
   "execution_count": 31,
   "id": "9f844f90",
   "metadata": {
    "execution": {
     "iopub.execute_input": "2024-05-01T11:58:56.182334Z",
     "iopub.status.busy": "2024-05-01T11:58:56.181907Z",
     "iopub.status.idle": "2024-05-01T11:58:56.203898Z",
     "shell.execute_reply": "2024-05-01T11:58:56.202754Z"
    },
    "papermill": {
     "duration": 0.047843,
     "end_time": "2024-05-01T11:58:56.206152",
     "exception": false,
     "start_time": "2024-05-01T11:58:56.158309",
     "status": "completed"
    },
    "tags": []
   },
   "outputs": [
    {
     "data": {
      "text/html": [
       "<div>\n",
       "<style scoped>\n",
       "    .dataframe tbody tr th:only-of-type {\n",
       "        vertical-align: middle;\n",
       "    }\n",
       "\n",
       "    .dataframe tbody tr th {\n",
       "        vertical-align: top;\n",
       "    }\n",
       "\n",
       "    .dataframe thead th {\n",
       "        text-align: right;\n",
       "    }\n",
       "</style>\n",
       "<table border=\"1\" class=\"dataframe\">\n",
       "  <thead>\n",
       "    <tr style=\"text-align: right;\">\n",
       "      <th></th>\n",
       "      <th>site</th>\n",
       "      <th>age</th>\n",
       "      <th>hdlngth</th>\n",
       "      <th>skullw</th>\n",
       "      <th>taill</th>\n",
       "      <th>footlgth</th>\n",
       "      <th>earconch</th>\n",
       "      <th>eye</th>\n",
       "      <th>chest</th>\n",
       "      <th>belly</th>\n",
       "      <th>totlngth</th>\n",
       "    </tr>\n",
       "  </thead>\n",
       "  <tbody>\n",
       "    <tr>\n",
       "      <th>0</th>\n",
       "      <td>0.693147</td>\n",
       "      <td>2.197225</td>\n",
       "      <td>4.554929</td>\n",
       "      <td>4.117410</td>\n",
       "      <td>3.610918</td>\n",
       "      <td>4.324133</td>\n",
       "      <td>4.016383</td>\n",
       "      <td>2.785011</td>\n",
       "      <td>3.367296</td>\n",
       "      <td>3.610918</td>\n",
       "      <td>4.499810</td>\n",
       "    </tr>\n",
       "    <tr>\n",
       "      <th>1</th>\n",
       "      <td>0.693147</td>\n",
       "      <td>1.945910</td>\n",
       "      <td>4.537961</td>\n",
       "      <td>4.070735</td>\n",
       "      <td>3.624341</td>\n",
       "      <td>4.297285</td>\n",
       "      <td>3.955082</td>\n",
       "      <td>2.833213</td>\n",
       "      <td>3.384390</td>\n",
       "      <td>3.526361</td>\n",
       "      <td>4.527209</td>\n",
       "    </tr>\n",
       "    <tr>\n",
       "      <th>2</th>\n",
       "      <td>0.693147</td>\n",
       "      <td>1.945910</td>\n",
       "      <td>4.553877</td>\n",
       "      <td>4.110874</td>\n",
       "      <td>3.688879</td>\n",
       "      <td>4.335983</td>\n",
       "      <td>3.968403</td>\n",
       "      <td>2.803360</td>\n",
       "      <td>3.433987</td>\n",
       "      <td>3.555348</td>\n",
       "      <td>4.569543</td>\n",
       "    </tr>\n",
       "    <tr>\n",
       "      <th>3</th>\n",
       "      <td>0.693147</td>\n",
       "      <td>1.945910</td>\n",
       "      <td>4.545420</td>\n",
       "      <td>4.062166</td>\n",
       "      <td>3.663562</td>\n",
       "      <td>4.345103</td>\n",
       "      <td>3.974058</td>\n",
       "      <td>2.785011</td>\n",
       "      <td>3.367296</td>\n",
       "      <td>3.555348</td>\n",
       "      <td>4.532599</td>\n",
       "    </tr>\n",
       "    <tr>\n",
       "      <th>4</th>\n",
       "      <td>0.693147</td>\n",
       "      <td>1.098612</td>\n",
       "      <td>4.527209</td>\n",
       "      <td>4.048301</td>\n",
       "      <td>3.610918</td>\n",
       "      <td>4.276666</td>\n",
       "      <td>3.992681</td>\n",
       "      <td>2.778819</td>\n",
       "      <td>3.384390</td>\n",
       "      <td>3.526361</td>\n",
       "      <td>4.460144</td>\n",
       "    </tr>\n",
       "    <tr>\n",
       "      <th>...</th>\n",
       "      <td>...</td>\n",
       "      <td>...</td>\n",
       "      <td>...</td>\n",
       "      <td>...</td>\n",
       "      <td>...</td>\n",
       "      <td>...</td>\n",
       "      <td>...</td>\n",
       "      <td>...</td>\n",
       "      <td>...</td>\n",
       "      <td>...</td>\n",
       "      <td>...</td>\n",
       "    </tr>\n",
       "    <tr>\n",
       "      <th>99</th>\n",
       "      <td>2.079442</td>\n",
       "      <td>0.693147</td>\n",
       "      <td>4.505350</td>\n",
       "      <td>4.043051</td>\n",
       "      <td>3.624341</td>\n",
       "      <td>4.204693</td>\n",
       "      <td>3.867026</td>\n",
       "      <td>2.760010</td>\n",
       "      <td>3.178054</td>\n",
       "      <td>3.332205</td>\n",
       "      <td>4.412798</td>\n",
       "    </tr>\n",
       "    <tr>\n",
       "      <th>100</th>\n",
       "      <td>2.079442</td>\n",
       "      <td>0.693147</td>\n",
       "      <td>4.495355</td>\n",
       "      <td>4.019980</td>\n",
       "      <td>3.688879</td>\n",
       "      <td>4.180522</td>\n",
       "      <td>3.891820</td>\n",
       "      <td>2.708050</td>\n",
       "      <td>3.258097</td>\n",
       "      <td>3.526361</td>\n",
       "      <td>4.424847</td>\n",
       "    </tr>\n",
       "    <tr>\n",
       "      <th>101</th>\n",
       "      <td>2.079442</td>\n",
       "      <td>1.945910</td>\n",
       "      <td>4.536891</td>\n",
       "      <td>4.025352</td>\n",
       "      <td>3.663562</td>\n",
       "      <td>4.166665</td>\n",
       "      <td>3.837299</td>\n",
       "      <td>2.639057</td>\n",
       "      <td>3.258097</td>\n",
       "      <td>3.433987</td>\n",
       "      <td>4.499810</td>\n",
       "    </tr>\n",
       "    <tr>\n",
       "      <th>102</th>\n",
       "      <td>2.079442</td>\n",
       "      <td>1.609438</td>\n",
       "      <td>4.527209</td>\n",
       "      <td>4.028917</td>\n",
       "      <td>3.624341</td>\n",
       "      <td>4.157319</td>\n",
       "      <td>3.848018</td>\n",
       "      <td>2.797281</td>\n",
       "      <td>3.258097</td>\n",
       "      <td>3.401197</td>\n",
       "      <td>4.424847</td>\n",
       "    </tr>\n",
       "    <tr>\n",
       "      <th>103</th>\n",
       "      <td>2.079442</td>\n",
       "      <td>1.386294</td>\n",
       "      <td>4.549657</td>\n",
       "      <td>4.109233</td>\n",
       "      <td>3.713572</td>\n",
       "      <td>4.228293</td>\n",
       "      <td>3.850148</td>\n",
       "      <td>2.760010</td>\n",
       "      <td>3.384390</td>\n",
       "      <td>3.540959</td>\n",
       "      <td>4.499810</td>\n",
       "    </tr>\n",
       "  </tbody>\n",
       "</table>\n",
       "<p>101 rows × 11 columns</p>\n",
       "</div>"
      ],
      "text/plain": [
       "         site       age   hdlngth    skullw     taill  footlgth  earconch  \\\n",
       "0    0.693147  2.197225  4.554929  4.117410  3.610918  4.324133  4.016383   \n",
       "1    0.693147  1.945910  4.537961  4.070735  3.624341  4.297285  3.955082   \n",
       "2    0.693147  1.945910  4.553877  4.110874  3.688879  4.335983  3.968403   \n",
       "3    0.693147  1.945910  4.545420  4.062166  3.663562  4.345103  3.974058   \n",
       "4    0.693147  1.098612  4.527209  4.048301  3.610918  4.276666  3.992681   \n",
       "..        ...       ...       ...       ...       ...       ...       ...   \n",
       "99   2.079442  0.693147  4.505350  4.043051  3.624341  4.204693  3.867026   \n",
       "100  2.079442  0.693147  4.495355  4.019980  3.688879  4.180522  3.891820   \n",
       "101  2.079442  1.945910  4.536891  4.025352  3.663562  4.166665  3.837299   \n",
       "102  2.079442  1.609438  4.527209  4.028917  3.624341  4.157319  3.848018   \n",
       "103  2.079442  1.386294  4.549657  4.109233  3.713572  4.228293  3.850148   \n",
       "\n",
       "          eye     chest     belly  totlngth  \n",
       "0    2.785011  3.367296  3.610918  4.499810  \n",
       "1    2.833213  3.384390  3.526361  4.527209  \n",
       "2    2.803360  3.433987  3.555348  4.569543  \n",
       "3    2.785011  3.367296  3.555348  4.532599  \n",
       "4    2.778819  3.384390  3.526361  4.460144  \n",
       "..        ...       ...       ...       ...  \n",
       "99   2.760010  3.178054  3.332205  4.412798  \n",
       "100  2.708050  3.258097  3.526361  4.424847  \n",
       "101  2.639057  3.258097  3.433987  4.499810  \n",
       "102  2.797281  3.258097  3.401197  4.424847  \n",
       "103  2.760010  3.384390  3.540959  4.499810  \n",
       "\n",
       "[101 rows x 11 columns]"
      ]
     },
     "execution_count": 31,
     "metadata": {},
     "output_type": "execute_result"
    }
   ],
   "source": [
    "log_df = np.log1p(pre_df)\n",
    "log_df"
   ]
  },
  {
   "cell_type": "code",
   "execution_count": 32,
   "id": "c312cbb5",
   "metadata": {
    "execution": {
     "iopub.execute_input": "2024-05-01T11:58:56.251862Z",
     "iopub.status.busy": "2024-05-01T11:58:56.251436Z",
     "iopub.status.idle": "2024-05-01T11:58:56.256550Z",
     "shell.execute_reply": "2024-05-01T11:58:56.255246Z"
    },
    "papermill": {
     "duration": 0.030436,
     "end_time": "2024-05-01T11:58:56.258635",
     "exception": false,
     "start_time": "2024-05-01T11:58:56.228199",
     "status": "completed"
    },
    "tags": []
   },
   "outputs": [],
   "source": [
    "from sklearn.preprocessing import PowerTransformer\n",
    "\n"
   ]
  }
 ],
 "metadata": {
  "kaggle": {
   "accelerator": "none",
   "dataSources": [
    {
     "datasetId": 1534513,
     "sourceId": 2532158,
     "sourceType": "datasetVersion"
    }
   ],
   "dockerImageVersionId": 30698,
   "isGpuEnabled": false,
   "isInternetEnabled": false,
   "language": "python",
   "sourceType": "notebook"
  },
  "kernelspec": {
   "display_name": "Python 3",
   "language": "python",
   "name": "python3"
  },
  "language_info": {
   "codemirror_mode": {
    "name": "ipython",
    "version": 3
   },
   "file_extension": ".py",
   "mimetype": "text/x-python",
   "name": "python",
   "nbconvert_exporter": "python",
   "pygments_lexer": "ipython3",
   "version": "3.10.13"
  },
  "papermill": {
   "default_parameters": {},
   "duration": 49.29794,
   "end_time": "2024-05-01T11:58:57.204415",
   "environment_variables": {},
   "exception": null,
   "input_path": "__notebook__.ipynb",
   "output_path": "__notebook__.ipynb",
   "parameters": {},
   "start_time": "2024-05-01T11:58:07.906475",
   "version": "2.5.0"
  }
 },
 "nbformat": 4,
 "nbformat_minor": 5
}
