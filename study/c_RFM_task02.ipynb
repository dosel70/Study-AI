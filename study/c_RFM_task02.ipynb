{
 "cells": [
  {
   "cell_type": "markdown",
   "id": "679eaefd-c2e8-412a-a1e5-a8a7d983f818",
   "metadata": {},
   "source": [
    "### RFM 분석 실습\n",
    "- Recency: 얼마나 최근에 구매했는가\n",
    "- Frequency: 얼마나 자주 구매했는가\n",
    "- Monetary: 얼마나 많은 금액을 지출했는가"
   ]
  },
  {
   "cell_type": "markdown",
   "id": "eea1022e-0b9b-43cf-be49-19de205ab607",
   "metadata": {},
   "source": [
    "### 고객 분석\n",
    "- InvoiceNo: 거래 번호\n",
    "- StockCode: 상품 코드\n",
    "- Description: 상품명 \n",
    "- InvoiceDate: 거래 날짜\n",
    "- UnitPrice: 상품 단가\n",
    "- CustomerID: 고객 번호\n",
    "- Country: 국가명"
   ]
  },
  {
   "cell_type": "code",
   "execution_count": 1,
   "id": "5af22ca7-9625-471e-8edc-8e34df12128f",
   "metadata": {},
   "outputs": [
    {
     "ename": "FileNotFoundError",
     "evalue": "[Errno 2] No such file or directory: './datasets/customer_invoice_data.csv'",
     "output_type": "error",
     "traceback": [
      "\u001b[1;31m---------------------------------------------------------------------------\u001b[0m",
      "\u001b[1;31mFileNotFoundError\u001b[0m                         Traceback (most recent call last)",
      "Cell \u001b[1;32mIn[1], line 3\u001b[0m\n\u001b[0;32m      1\u001b[0m \u001b[38;5;28;01mimport\u001b[39;00m \u001b[38;5;21;01mpandas\u001b[39;00m \u001b[38;5;28;01mas\u001b[39;00m \u001b[38;5;21;01mpd\u001b[39;00m\n\u001b[1;32m----> 3\u001b[0m ci_df \u001b[38;5;241m=\u001b[39m pd\u001b[38;5;241m.\u001b[39mread_csv(\u001b[38;5;124m'\u001b[39m\u001b[38;5;124m./datasets/customer_invoice_data.csv\u001b[39m\u001b[38;5;124m'\u001b[39m)\n\u001b[0;32m      4\u001b[0m ci_df\n",
      "File \u001b[1;32mC:\\ProgramData\\anaconda3\\Lib\\site-packages\\pandas\\io\\parsers\\readers.py:948\u001b[0m, in \u001b[0;36mread_csv\u001b[1;34m(filepath_or_buffer, sep, delimiter, header, names, index_col, usecols, dtype, engine, converters, true_values, false_values, skipinitialspace, skiprows, skipfooter, nrows, na_values, keep_default_na, na_filter, verbose, skip_blank_lines, parse_dates, infer_datetime_format, keep_date_col, date_parser, date_format, dayfirst, cache_dates, iterator, chunksize, compression, thousands, decimal, lineterminator, quotechar, quoting, doublequote, escapechar, comment, encoding, encoding_errors, dialect, on_bad_lines, delim_whitespace, low_memory, memory_map, float_precision, storage_options, dtype_backend)\u001b[0m\n\u001b[0;32m    935\u001b[0m kwds_defaults \u001b[38;5;241m=\u001b[39m _refine_defaults_read(\n\u001b[0;32m    936\u001b[0m     dialect,\n\u001b[0;32m    937\u001b[0m     delimiter,\n\u001b[1;32m   (...)\u001b[0m\n\u001b[0;32m    944\u001b[0m     dtype_backend\u001b[38;5;241m=\u001b[39mdtype_backend,\n\u001b[0;32m    945\u001b[0m )\n\u001b[0;32m    946\u001b[0m kwds\u001b[38;5;241m.\u001b[39mupdate(kwds_defaults)\n\u001b[1;32m--> 948\u001b[0m \u001b[38;5;28;01mreturn\u001b[39;00m _read(filepath_or_buffer, kwds)\n",
      "File \u001b[1;32mC:\\ProgramData\\anaconda3\\Lib\\site-packages\\pandas\\io\\parsers\\readers.py:611\u001b[0m, in \u001b[0;36m_read\u001b[1;34m(filepath_or_buffer, kwds)\u001b[0m\n\u001b[0;32m    608\u001b[0m _validate_names(kwds\u001b[38;5;241m.\u001b[39mget(\u001b[38;5;124m\"\u001b[39m\u001b[38;5;124mnames\u001b[39m\u001b[38;5;124m\"\u001b[39m, \u001b[38;5;28;01mNone\u001b[39;00m))\n\u001b[0;32m    610\u001b[0m \u001b[38;5;66;03m# Create the parser.\u001b[39;00m\n\u001b[1;32m--> 611\u001b[0m parser \u001b[38;5;241m=\u001b[39m TextFileReader(filepath_or_buffer, \u001b[38;5;241m*\u001b[39m\u001b[38;5;241m*\u001b[39mkwds)\n\u001b[0;32m    613\u001b[0m \u001b[38;5;28;01mif\u001b[39;00m chunksize \u001b[38;5;129;01mor\u001b[39;00m iterator:\n\u001b[0;32m    614\u001b[0m     \u001b[38;5;28;01mreturn\u001b[39;00m parser\n",
      "File \u001b[1;32mC:\\ProgramData\\anaconda3\\Lib\\site-packages\\pandas\\io\\parsers\\readers.py:1448\u001b[0m, in \u001b[0;36mTextFileReader.__init__\u001b[1;34m(self, f, engine, **kwds)\u001b[0m\n\u001b[0;32m   1445\u001b[0m     \u001b[38;5;28mself\u001b[39m\u001b[38;5;241m.\u001b[39moptions[\u001b[38;5;124m\"\u001b[39m\u001b[38;5;124mhas_index_names\u001b[39m\u001b[38;5;124m\"\u001b[39m] \u001b[38;5;241m=\u001b[39m kwds[\u001b[38;5;124m\"\u001b[39m\u001b[38;5;124mhas_index_names\u001b[39m\u001b[38;5;124m\"\u001b[39m]\n\u001b[0;32m   1447\u001b[0m \u001b[38;5;28mself\u001b[39m\u001b[38;5;241m.\u001b[39mhandles: IOHandles \u001b[38;5;241m|\u001b[39m \u001b[38;5;28;01mNone\u001b[39;00m \u001b[38;5;241m=\u001b[39m \u001b[38;5;28;01mNone\u001b[39;00m\n\u001b[1;32m-> 1448\u001b[0m \u001b[38;5;28mself\u001b[39m\u001b[38;5;241m.\u001b[39m_engine \u001b[38;5;241m=\u001b[39m \u001b[38;5;28mself\u001b[39m\u001b[38;5;241m.\u001b[39m_make_engine(f, \u001b[38;5;28mself\u001b[39m\u001b[38;5;241m.\u001b[39mengine)\n",
      "File \u001b[1;32mC:\\ProgramData\\anaconda3\\Lib\\site-packages\\pandas\\io\\parsers\\readers.py:1705\u001b[0m, in \u001b[0;36mTextFileReader._make_engine\u001b[1;34m(self, f, engine)\u001b[0m\n\u001b[0;32m   1703\u001b[0m     \u001b[38;5;28;01mif\u001b[39;00m \u001b[38;5;124m\"\u001b[39m\u001b[38;5;124mb\u001b[39m\u001b[38;5;124m\"\u001b[39m \u001b[38;5;129;01mnot\u001b[39;00m \u001b[38;5;129;01min\u001b[39;00m mode:\n\u001b[0;32m   1704\u001b[0m         mode \u001b[38;5;241m+\u001b[39m\u001b[38;5;241m=\u001b[39m \u001b[38;5;124m\"\u001b[39m\u001b[38;5;124mb\u001b[39m\u001b[38;5;124m\"\u001b[39m\n\u001b[1;32m-> 1705\u001b[0m \u001b[38;5;28mself\u001b[39m\u001b[38;5;241m.\u001b[39mhandles \u001b[38;5;241m=\u001b[39m get_handle(\n\u001b[0;32m   1706\u001b[0m     f,\n\u001b[0;32m   1707\u001b[0m     mode,\n\u001b[0;32m   1708\u001b[0m     encoding\u001b[38;5;241m=\u001b[39m\u001b[38;5;28mself\u001b[39m\u001b[38;5;241m.\u001b[39moptions\u001b[38;5;241m.\u001b[39mget(\u001b[38;5;124m\"\u001b[39m\u001b[38;5;124mencoding\u001b[39m\u001b[38;5;124m\"\u001b[39m, \u001b[38;5;28;01mNone\u001b[39;00m),\n\u001b[0;32m   1709\u001b[0m     compression\u001b[38;5;241m=\u001b[39m\u001b[38;5;28mself\u001b[39m\u001b[38;5;241m.\u001b[39moptions\u001b[38;5;241m.\u001b[39mget(\u001b[38;5;124m\"\u001b[39m\u001b[38;5;124mcompression\u001b[39m\u001b[38;5;124m\"\u001b[39m, \u001b[38;5;28;01mNone\u001b[39;00m),\n\u001b[0;32m   1710\u001b[0m     memory_map\u001b[38;5;241m=\u001b[39m\u001b[38;5;28mself\u001b[39m\u001b[38;5;241m.\u001b[39moptions\u001b[38;5;241m.\u001b[39mget(\u001b[38;5;124m\"\u001b[39m\u001b[38;5;124mmemory_map\u001b[39m\u001b[38;5;124m\"\u001b[39m, \u001b[38;5;28;01mFalse\u001b[39;00m),\n\u001b[0;32m   1711\u001b[0m     is_text\u001b[38;5;241m=\u001b[39mis_text,\n\u001b[0;32m   1712\u001b[0m     errors\u001b[38;5;241m=\u001b[39m\u001b[38;5;28mself\u001b[39m\u001b[38;5;241m.\u001b[39moptions\u001b[38;5;241m.\u001b[39mget(\u001b[38;5;124m\"\u001b[39m\u001b[38;5;124mencoding_errors\u001b[39m\u001b[38;5;124m\"\u001b[39m, \u001b[38;5;124m\"\u001b[39m\u001b[38;5;124mstrict\u001b[39m\u001b[38;5;124m\"\u001b[39m),\n\u001b[0;32m   1713\u001b[0m     storage_options\u001b[38;5;241m=\u001b[39m\u001b[38;5;28mself\u001b[39m\u001b[38;5;241m.\u001b[39moptions\u001b[38;5;241m.\u001b[39mget(\u001b[38;5;124m\"\u001b[39m\u001b[38;5;124mstorage_options\u001b[39m\u001b[38;5;124m\"\u001b[39m, \u001b[38;5;28;01mNone\u001b[39;00m),\n\u001b[0;32m   1714\u001b[0m )\n\u001b[0;32m   1715\u001b[0m \u001b[38;5;28;01massert\u001b[39;00m \u001b[38;5;28mself\u001b[39m\u001b[38;5;241m.\u001b[39mhandles \u001b[38;5;129;01mis\u001b[39;00m \u001b[38;5;129;01mnot\u001b[39;00m \u001b[38;5;28;01mNone\u001b[39;00m\n\u001b[0;32m   1716\u001b[0m f \u001b[38;5;241m=\u001b[39m \u001b[38;5;28mself\u001b[39m\u001b[38;5;241m.\u001b[39mhandles\u001b[38;5;241m.\u001b[39mhandle\n",
      "File \u001b[1;32mC:\\ProgramData\\anaconda3\\Lib\\site-packages\\pandas\\io\\common.py:863\u001b[0m, in \u001b[0;36mget_handle\u001b[1;34m(path_or_buf, mode, encoding, compression, memory_map, is_text, errors, storage_options)\u001b[0m\n\u001b[0;32m    858\u001b[0m \u001b[38;5;28;01melif\u001b[39;00m \u001b[38;5;28misinstance\u001b[39m(handle, \u001b[38;5;28mstr\u001b[39m):\n\u001b[0;32m    859\u001b[0m     \u001b[38;5;66;03m# Check whether the filename is to be opened in binary mode.\u001b[39;00m\n\u001b[0;32m    860\u001b[0m     \u001b[38;5;66;03m# Binary mode does not support 'encoding' and 'newline'.\u001b[39;00m\n\u001b[0;32m    861\u001b[0m     \u001b[38;5;28;01mif\u001b[39;00m ioargs\u001b[38;5;241m.\u001b[39mencoding \u001b[38;5;129;01mand\u001b[39;00m \u001b[38;5;124m\"\u001b[39m\u001b[38;5;124mb\u001b[39m\u001b[38;5;124m\"\u001b[39m \u001b[38;5;129;01mnot\u001b[39;00m \u001b[38;5;129;01min\u001b[39;00m ioargs\u001b[38;5;241m.\u001b[39mmode:\n\u001b[0;32m    862\u001b[0m         \u001b[38;5;66;03m# Encoding\u001b[39;00m\n\u001b[1;32m--> 863\u001b[0m         handle \u001b[38;5;241m=\u001b[39m \u001b[38;5;28mopen\u001b[39m(\n\u001b[0;32m    864\u001b[0m             handle,\n\u001b[0;32m    865\u001b[0m             ioargs\u001b[38;5;241m.\u001b[39mmode,\n\u001b[0;32m    866\u001b[0m             encoding\u001b[38;5;241m=\u001b[39mioargs\u001b[38;5;241m.\u001b[39mencoding,\n\u001b[0;32m    867\u001b[0m             errors\u001b[38;5;241m=\u001b[39merrors,\n\u001b[0;32m    868\u001b[0m             newline\u001b[38;5;241m=\u001b[39m\u001b[38;5;124m\"\u001b[39m\u001b[38;5;124m\"\u001b[39m,\n\u001b[0;32m    869\u001b[0m         )\n\u001b[0;32m    870\u001b[0m     \u001b[38;5;28;01melse\u001b[39;00m:\n\u001b[0;32m    871\u001b[0m         \u001b[38;5;66;03m# Binary mode\u001b[39;00m\n\u001b[0;32m    872\u001b[0m         handle \u001b[38;5;241m=\u001b[39m \u001b[38;5;28mopen\u001b[39m(handle, ioargs\u001b[38;5;241m.\u001b[39mmode)\n",
      "\u001b[1;31mFileNotFoundError\u001b[0m: [Errno 2] No such file or directory: './datasets/customer_invoice_data.csv'"
     ]
    }
   ],
   "source": [
    "import pandas as pd\n",
    "\n",
    "ci_df = pd.read_csv('./datasets/customer_invoice_data.csv')\n",
    "ci_df"
   ]
  },
  {
   "cell_type": "code",
   "execution_count": null,
   "id": "e974d119-ca67-49e1-b9a6-c8436557a2a7",
   "metadata": {},
   "outputs": [],
   "source": [
    "ci_df.isna().sum()"
   ]
  },
  {
   "cell_type": "code",
   "execution_count": null,
   "id": "03be8e8b-58e8-4ec9-927f-dce280bd11c7",
   "metadata": {},
   "outputs": [],
   "source": [
    "ci_df = ci_df.drop(index=ci_df[ci_df['CustomerID'].isna()].index, axis=1)"
   ]
  },
  {
   "cell_type": "code",
   "execution_count": null,
   "id": "3b37490d-dfee-4904-a432-b5fc651f3d3e",
   "metadata": {},
   "outputs": [],
   "source": [
    "import numpy as np\n",
    "\n",
    "ci_df = ci_df.astype({'CustomerID': np.int16})\n",
    "ci_df"
   ]
  },
  {
   "cell_type": "code",
   "execution_count": null,
   "id": "da3bf0ec-ef29-4495-bd8e-062797cba0ba",
   "metadata": {},
   "outputs": [],
   "source": [
    "ci_df.isna().sum()"
   ]
  },
  {
   "cell_type": "code",
   "execution_count": null,
   "id": "4b5a0366-908e-4902-a5cd-297bab51c1db",
   "metadata": {},
   "outputs": [],
   "source": [
    "ci_df = ci_df.reset_index(drop=True)\n",
    "ci_df"
   ]
  },
  {
   "cell_type": "code",
   "execution_count": null,
   "id": "166d1ca6-402e-4ca5-ac4e-236f530146c2",
   "metadata": {},
   "outputs": [],
   "source": [
    "ci_df.duplicated().sum()"
   ]
  },
  {
   "cell_type": "code",
   "execution_count": null,
   "id": "52aba2d8-1b54-459c-a858-6a0445453aeb",
   "metadata": {},
   "outputs": [],
   "source": [
    "ci_rf_df = ci_df[ci_df['Quantity'] >= 0]\n",
    "ci_rf_df"
   ]
  },
  {
   "cell_type": "code",
   "execution_count": null,
   "id": "ede08ce2-b8eb-4445-b3b0-942c55d77c3d",
   "metadata": {},
   "outputs": [],
   "source": [
    "ci_rf_df.loc[:, 'Recency'] = pd.to_datetime(ci_df['InvoiceDate'])\\\n",
    "                    .apply(lambda x: (pd.to_datetime('2011-12-10') - x).days)\n",
    "ci_rf_df"
   ]
  },
  {
   "cell_type": "code",
   "execution_count": null,
   "id": "c0f0571f-5ccd-4a2c-9839-2c92efbb5a28",
   "metadata": {},
   "outputs": [],
   "source": [
    "ci_rf_df = ci_rf_df.drop(['InvoiceDate'], axis=1)"
   ]
  },
  {
   "cell_type": "code",
   "execution_count": null,
   "id": "e477d174-cd19-4bdb-bfbc-e228ea769927",
   "metadata": {},
   "outputs": [],
   "source": [
    "rf_df = ci_rf_df.groupby('CustomerID').agg(Recency=('Recency', 'min'), Frequency=('CustomerID', 'count'))\n",
    "rf_df"
   ]
  },
  {
   "cell_type": "code",
   "execution_count": null,
   "id": "2579476b-d4e8-4a23-a89d-80ecd583b7d9",
   "metadata": {},
   "outputs": [],
   "source": [
    "m_df = ci_df.copy()\n",
    "m_df.loc[:, 'Monetary'] = m_df['Quantity'] * m_df['UnitPrice']\n",
    "m_df"
   ]
  },
  {
   "cell_type": "code",
   "execution_count": null,
   "id": "efbb5d3f-b635-45fb-9f08-04cf28adb673",
   "metadata": {},
   "outputs": [],
   "source": [
    "m_df = m_df.groupby('CustomerID')[['Monetary']].sum()\n",
    "m_df"
   ]
  },
  {
   "cell_type": "code",
   "execution_count": null,
   "id": "194354be-937a-4cb2-835a-3c47c73e0250",
   "metadata": {},
   "outputs": [],
   "source": [
    "rf_df = rf_df.reset_index()\n",
    "rf_df"
   ]
  },
  {
   "cell_type": "code",
   "execution_count": null,
   "id": "145f82f8-d8bb-45b7-aa27-875e1fe14bb2",
   "metadata": {},
   "outputs": [],
   "source": [
    "m_df = m_df.reset_index()\n",
    "m_df"
   ]
  },
  {
   "cell_type": "code",
   "execution_count": null,
   "id": "87590098-012e-4cfc-ac6d-b83d99b4139e",
   "metadata": {},
   "outputs": [],
   "source": [
    "rfm_df = rf_df.merge(m_df, on='CustomerID')\n",
    "rfm_df"
   ]
  },
  {
   "cell_type": "code",
   "execution_count": null,
   "id": "e3e821ba-4561-4fa9-b369-0cb6e9ee1a3a",
   "metadata": {},
   "outputs": [],
   "source": [
    "rfm_df.iloc[rfm_df[rfm_df['Monetary'] < 0].index] = 0\n",
    "rfm_df[rfm_df['Monetary'] < 0]"
   ]
  },
  {
   "cell_type": "code",
   "execution_count": null,
   "id": "c52ca79d-4057-4ff1-8436-52d58349768f",
   "metadata": {},
   "outputs": [],
   "source": [
    "rfm_df"
   ]
  },
  {
   "cell_type": "code",
   "execution_count": null,
   "id": "3643fa8a-f6b2-4cd3-ba14-7d90e508e0ae",
   "metadata": {},
   "outputs": [],
   "source": [
    "from sklearn.preprocessing import MinMaxScaler\n",
    "\n",
    "rfm_scale = MinMaxScaler()\n",
    "rfm_scale = rfm_scale.fit_transform(rfm_df[['Recency', 'Frequency', 'Monetary']])"
   ]
  },
  {
   "cell_type": "code",
   "execution_count": null,
   "id": "1603eaa3-1615-4939-b8e3-9cbf63c29848",
   "metadata": {},
   "outputs": [],
   "source": [
    "rfm_df[['Recency', 'Frequency', 'Monetary']] = pd.DataFrame(rfm_scale, columns=['Recency', 'Frequency', 'Monetary'])\n",
    "rfm_df"
   ]
  },
  {
   "cell_type": "code",
   "execution_count": null,
   "id": "8f44510f-ceca-4dab-8208-6e96ba087d9a",
   "metadata": {},
   "outputs": [],
   "source": [
    "rfm_df['Recency'] = 1 - rfm_df['Recency']"
   ]
  },
  {
   "cell_type": "code",
   "execution_count": null,
   "id": "74a90efe-c2c1-44ee-8764-efe875211e3c",
   "metadata": {},
   "outputs": [],
   "source": [
    "rfm_df"
   ]
  },
  {
   "cell_type": "code",
   "execution_count": null,
   "id": "e56c323b-b7dc-4767-ad8f-11fb6e1bbd23",
   "metadata": {},
   "outputs": [],
   "source": [
    "rfm_df.loc[:, 'TotalScore'] = rfm_df['Recency'] + rfm_df['Frequency'] + rfm_df['Monetary']\n",
    "rfm_df"
   ]
  },
  {
   "cell_type": "code",
   "execution_count": null,
   "id": "5fd018fb-ff19-4593-a766-b149508a0a5b",
   "metadata": {},
   "outputs": [],
   "source": [
    "ci_rfm_df = ci_df.merge(rfm_df[['CustomerID', 'TotalScore']], on='CustomerID')\n",
    "ci_rfm_df"
   ]
  },
  {
   "cell_type": "code",
   "execution_count": null,
   "id": "f9d14600-2948-4d5c-ab8c-22d0ac1995f6",
   "metadata": {},
   "outputs": [],
   "source": [
    "import numpy as np\n",
    "\n",
    "l1, l2, l3, l4 = np.percentile(ci_rfm_df['TotalScore'], [20, 40, 70, 90])\n",
    "print(l1, l2, l3, l4)"
   ]
  },
  {
   "cell_type": "code",
   "execution_count": null,
   "id": "efcfbb89-07e1-49c0-a5fc-c79dc984574b",
   "metadata": {},
   "outputs": [],
   "source": [
    "def get_level(x):\n",
    "    if x <= l1:\n",
    "        return 5\n",
    "    if x <= l2:\n",
    "        return 4\n",
    "    if x <= l3:\n",
    "        return 3\n",
    "    if x <= l4:\n",
    "        return 2\n",
    "    return 1"
   ]
  },
  {
   "cell_type": "code",
   "execution_count": null,
   "id": "44cf98ca-e293-45ae-b958-b87ac09ed196",
   "metadata": {},
   "outputs": [],
   "source": [
    "ci_rfm_df['Level'] = ci_rfm_df['TotalScore'].apply(get_level)\n",
    "ci_rfm_df"
   ]
  },
  {
   "cell_type": "code",
   "execution_count": null,
   "id": "affc55c6-e5ab-4d86-ab75-d1ca860ce7ba",
   "metadata": {},
   "outputs": [],
   "source": [
    "ci_rfm_df['Level'] = ci_rfm_df['Level'].replace([5, 4, 3, 2, 1], \n",
    "                                                ['Bronze', 'Silver', 'Gold', 'Diamond', 'VIP'])"
   ]
  },
  {
   "cell_type": "code",
   "execution_count": null,
   "id": "deee1ec4-08e5-4558-bd8f-b5a3cf2755b8",
   "metadata": {},
   "outputs": [],
   "source": [
    "import matplotlib.pyplot as plt\n",
    "import seaborn as sns\n",
    "\n",
    "order = ['Bronze', 'Silver', 'Gold', 'Diamond', 'VIP']\n",
    "\n",
    "sns.countplot(x = 'Level', data=ci_rfm_df, palette='muted', order=order)\n",
    "plt.title('Level Count')\n",
    "plt.show()"
   ]
  }
 ],
 "metadata": {
  "kernelspec": {
   "display_name": "Python 3 (ipykernel)",
   "language": "python",
   "name": "python3"
  },
  "language_info": {
   "codemirror_mode": {
    "name": "ipython",
    "version": 3
   },
   "file_extension": ".py",
   "mimetype": "text/x-python",
   "name": "python",
   "nbconvert_exporter": "python",
   "pygments_lexer": "ipython3",
   "version": "3.11.8"
  }
 },
 "nbformat": 4,
 "nbformat_minor": 5
}
