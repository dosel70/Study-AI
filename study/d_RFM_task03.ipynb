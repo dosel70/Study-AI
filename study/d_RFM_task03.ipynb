{
 "cells": [
  {
   "cell_type": "markdown",
   "id": "0f178ae5-8aa7-43f9-bf2d-edcb58a4e8fe",
   "metadata": {},
   "source": [
    "### RFM 분석 실습\n",
    "- Recency: 얼마나 최근에 구매했는가\n",
    "- Frequency: 얼마나 자주 구매했는가\n",
    "- Monetary: 얼마나 많은 금액을 지출했는가"
   ]
  },
  {
   "cell_type": "markdown",
   "id": "86bccf44-68e7-4a84-abed-80970a6075e7",
   "metadata": {},
   "source": [
    "### 고객 분석\n",
    "\n",
    "> voice_no: 송장 번호. 명사 같은. 각 작업에 고유하게 할당된 문자 'I'와 6자리 정수의 조합  \n",
    "customer_id: 고객번호. 명사 같은. 각 작업에 고유하게 할당된 문자 'C'와 6자리 정수의 조합  \n",
    "gender: 고객 성별의 문자a열 변수  \n",
    "age: 고객 연령의 양의 정수 변수  \n",
    "category: 구매한 상품 카테고리의 문자열 변수 \n",
    "quantity: 거래당 각 제품(항목)의 수량  \n",
    "price: 단가. 숫자. 단위당 제품 가격은 터키 리라(TL)  \n",
    "payment_method: 거래에 사용된 결제 방법(현금, 신용 카드 또는 직불 카드)의 문자열 변수  \n",
    "invoice_date: 송장 날짜. 거래가 발생한 날  \n",
    "shopping_mall: 거래가 이루어진 쇼핑몰 이름의 문자열 변수  "
   ]
  }
 ],
 "metadata": {
  "kernelspec": {
   "display_name": "Python 3 (ipykernel)",
   "language": "python",
   "name": "python3"
  },
  "language_info": {
   "codemirror_mode": {
    "name": "ipython",
    "version": 3
   },
   "file_extension": ".py",
   "mimetype": "text/x-python",
   "name": "python",
   "nbconvert_exporter": "python",
   "pygments_lexer": "ipython3",
   "version": "3.11.8"
  }
 },
 "nbformat": 4,
 "nbformat_minor": 5
}
