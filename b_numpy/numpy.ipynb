{
 "cells": [
  {
   "cell_type": "code",
   "execution_count": 3,
   "id": "f287df8b-45f9-4baa-ba41-03e057dfbba1",
   "metadata": {},
   "outputs": [],
   "source": [
    "import numpy as np"
   ]
  },
  {
   "cell_type": "code",
   "execution_count": 2,
   "id": "35ee2632-cddf-44f3-b170-20d1875e86c2",
   "metadata": {},
   "outputs": [
    {
     "name": "stdout",
     "output_type": "stream",
     "text": [
      "1.26.4\n"
     ]
    }
   ],
   "source": [
    "print(np.__version__)"
   ]
  },
  {
   "cell_type": "markdown",
   "id": "ecf91942-1902-4e6c-b485-299cf0ef164d",
   "metadata": {},
   "source": [
    "### Numpy\n",
    "- 머신러닝 애플리케이션에서 데이터 추출, 가공, 변환과 같은 데이터 처리 부분을 담당한다.\n",
    "- 넘파이 기반의 사이킷런을 이해하기 위해서는 넘파이는 필수이다.\n",
    "- 사이킷런은 직관적이고 간결하기 때문에 상대적으로 개발하기 쉽지만 넘파이는 양도 많고 배울 것도 많다.\n",
    "- 넘파이 전체를 다 이해하고 공부하는 것은 머신러닝을 포기하게 만들기 때문에\n",
    "  기본 문법과 중요 API만 이해하는것이 전략적으로 좋다."
   ]
  },
  {
   "cell_type": "markdown",
   "id": "faba3b8a-81aa-4de6-8b38-6f4023e9454a",
   "metadata": {},
   "source": [
    "#### ndarray\n",
    "- N 차원(n-dimension) 배열 객체이다.\n",
    "- 파이썬 list를 array() 메소드에 전달하면 ndarray로 변환되고\n",
    "  넘파이의 다양하고 편리한 기능들을 사용할 수 있게 된다.\n",
    "- 반드시 같은 자료형의 데이터만 담아야 한다.\n",
    "  \n",
    "<img src=\"./images/numpy1.png\" width=\"400px\" style=\"margin-left: 10px;\">"
   ]
  },
  {
   "cell_type": "code",
   "execution_count": 4,
   "id": "fd23efa9-3664-40bc-b0f6-628caa94005e",
   "metadata": {},
   "outputs": [],
   "source": [
    "import numpy as np"
   ]
  },
  {
   "cell_type": "code",
   "execution_count": 9,
   "id": "8bc22849-b55f-4c5d-a8ed-2fe813b79a39",
   "metadata": {},
   "outputs": [
    {
     "name": "stdout",
     "output_type": "stream",
     "text": [
      "<class 'numpy.ndarray'>\n",
      "[1 2 3]\n",
      "==============================\n",
      "(3,) [1 2 3]\n",
      "1\n"
     ]
    }
   ],
   "source": [
    "ndarray1 = np.array([1,2,3])\n",
    "print(type(ndarray1), ndarray1, sep='\\n')\n",
    "\n",
    "print(\"=\" * 30)\n",
    "\n",
    "#shape : 차원을 알 수 있으며, 각 차원별 개수를 나타낸다.\n",
    "print(ndarray1.shape, ndarray1)\n",
    "\n",
    "#ndim : 차원을 나타낸다.\n",
    "print(ndarray1.ndim)"
   ]
  },
  {
   "cell_type": "code",
   "execution_count": 32,
   "id": "292cf0a6-9b9f-4629-87ff-97fc2e4d8183",
   "metadata": {},
   "outputs": [
    {
     "name": "stdout",
     "output_type": "stream",
     "text": [
      "(3, 3)\n",
      "2\n"
     ]
    }
   ],
   "source": [
    "# 1,2,3\n",
    "# 4,5,6\n",
    "ndarray2 = np.array([[1,2,3],[4,5,6],[4,5,6]])\n",
    "print(ndarray2.shape)\n",
    "print(ndarray2.ndim)"
   ]
  },
  {
   "cell_type": "markdown",
   "id": "607ec1f8-9830-45c4-bac4-3d7317765c2e",
   "metadata": {},
   "source": [
    "#### astype()\n",
    "- ndarray에 저장된 요소의 타입을 변환시킬때 사용한다.\n",
    "- 대용량 데이터 처리 시, 메모리 절약을 위해 사용한다."
   ]
  },
  {
   "cell_type": "code",
   "execution_count": 35,
   "id": "36fc7fc0-038d-4a8c-89ba-ce5613edd8c4",
   "metadata": {},
   "outputs": [
    {
     "name": "stdout",
     "output_type": "stream",
     "text": [
      "<class 'numpy.ndarray'>\n",
      "int32\n",
      "<class 'numpy.ndarray'>\n",
      "int8\n"
     ]
    }
   ],
   "source": [
    "ndaary1 = np.array([1,2,3])\n",
    "\n",
    "print(type(ndarray1))\n",
    "print(ndarray1.dtype)\n",
    "\n",
    "ndarray1_int8 = ndarray1.astype(np.int8)\n",
    "print(type(ndarray1))\n",
    "print(ndarray1_int8.dtype)"
   ]
  },
  {
   "cell_type": "code",
   "execution_count": 44,
   "id": "c459bc27-a8e9-46d5-97b4-1316373bed27",
   "metadata": {},
   "outputs": [
    {
     "name": "stdout",
     "output_type": "stream",
     "text": [
      "(3,) int32 <class 'numpy.ndarray'>\n",
      "<class 'numpy.ndarray'>\n",
      "float16 1\n"
     ]
    }
   ],
   "source": [
    "# 4, 5, 6 을 ndarray에 담는다.\n",
    "# dtype을 확인한 뒤 float16으로 변경시키고 확인한다.\n",
    "\n",
    "ndarry1 = np.array([4,5,6])\n",
    "print(ndarray1.shape,ndarray1.dtype,type(ndarray1))\n",
    "\n",
    "ndarray1_float_16 = ndarray1.astype(np.float16)\n",
    "ndarray1_float_16\n",
    "print(type(ndarray1))\n",
    "print(ndarray1_float_16.dtype, ndarray1_float_16.ndim)"
   ]
  },
  {
   "cell_type": "markdown",
   "id": "ced17dbb-452a-40dd-a93c-04a3300eb0c5",
   "metadata": {},
   "source": [
    "#### axis\n",
    "- 축의 방향성을 표현할 때 axis로 표현할 수 있다.\n",
    "  \n",
    "<img src=\"./images/numpy2.png\" width=\"500px\" style=margin-left:10px>\n"
   ]
  },
  {
   "cell_type": "markdown",
   "id": "12db002c-54ee-4c9a-b0da-463ff1977700",
   "metadata": {},
   "source": [
    "#### arange(), zeros(), ones()\n",
    "- ndarray의 요소를 원하는 범위의 연속값, 0 또는 1로 초기화 할때 사용한다.\n"
   ]
  },
  {
   "cell_type": "code",
   "execution_count": 59,
   "id": "9bc96619-4d2e-4df1-a347-68dff45cf1d9",
   "metadata": {},
   "outputs": [
    {
     "name": "stdout",
     "output_type": "stream",
     "text": [
      "int32 (10,)\n",
      "[0 1 2 3 4 5 6 7 8 9]\n",
      "[0. 0. 0.] (3,)\n",
      "[1. 1. 1.]\n",
      "(3,) float64\n"
     ]
    }
   ],
   "source": [
    "# 0 ~ 9 까지 1차원 array\n",
    "ndarray1 = np.arange(0,10)\n",
    "print(ndarray1.dtype, ndarray1.shape)\n",
    "print(ndarray1)\n",
    "\n",
    "# 2행 3열 요소 모두 0으로 초기화\n",
    "\n",
    "# 1차원 3칸 배열 요소 모두 1로 초기화\n",
    "ndarray1 = np.zeros((3,))\n",
    "print(ndarray1, ndarray1.shape)\n",
    "ndarray1 = np.ones((3,))\n",
    "print(ndarray1)\n",
    "print(ndarray1.shape, ndarray1.dtype)"
   ]
  },
  {
   "cell_type": "markdown",
   "id": "8ce27c48-790a-4fe0-bb54-b1621e69833d",
   "metadata": {},
   "source": [
    "### reshape()\n",
    "- ndarray의 기존 shape를 다른 shape로 변경한다."
   ]
  },
  {
   "cell_type": "code",
   "execution_count": 72,
   "id": "f70b3800-51e3-4be0-9fc3-78611ecb3ede",
   "metadata": {},
   "outputs": [
    {
     "name": "stdout",
     "output_type": "stream",
     "text": [
      "[0 1 2 3 4 5 6 7] (8,)\n",
      "==============================\n",
      "(4, 2)\n",
      "[[0 1]\n",
      " [2 3]\n",
      " [4 5]\n",
      " [6 7]] [[0 1 2 3]\n",
      " [4 5 6 7]]\n",
      "(2, 4)\n",
      "[1. 1. 1.]\n"
     ]
    }
   ],
   "source": [
    "ndarray1 = np.arange(8)\n",
    "print(ndarray1, ndarray1.shape)\n",
    "\n",
    "print(\"=\" * 30)\n",
    "ndarray3 = ndarray1.reshape((-1,2))\n",
    "ndarray2 = ndarray1.reshape((2,4))\n",
    "print(ndarray3.shape)\n",
    "print(ndarray3, ndarray2)\n",
    "print(ndarray2.shape)\n"
   ]
  },
  {
   "cell_type": "markdown",
   "id": "9ce6d737-820a-4b27-886a-1764d7f65195",
   "metadata": {},
   "source": [
    "#### Indexing\n",
    "- 특정 위치의 데이터를 가져오는 것\n",
    "- 위치 인덱싱(Location indexing)\n",
    "- 슬라이싱(Slicing)\n",
    "- 팬시 인덱싱(Fancy indexing)\n",
    "- 블린 인덱싱(Boolean indexing)"
   ]
  },
  {
   "cell_type": "code",
   "execution_count": 83,
   "id": "872d8bb7-2ecc-4ffa-a9db-b357d0e6ade1",
   "metadata": {},
   "outputs": [
    {
     "name": "stdout",
     "output_type": "stream",
     "text": [
      "[ 2  3  4  5  6  7  8  9 10]\n",
      "9 <class 'numpy.int32'>\n"
     ]
    }
   ],
   "source": [
    "# 1차원 위치 인덱싱 : 전달한 위치(인덱스) 값 한 개 추출\n",
    "# 2부터 10까지 순서대로 요소를 갖는 1차원 ndarray\n",
    "ndarray1 = np.arange(start=2, stop=11)\n",
    "print(ndarray1)\n",
    "\n",
    "data = ndarray1[-2]\n",
    "print(data, type(data))"
   ]
  },
  {
   "cell_type": "code",
   "execution_count": 103,
   "id": "908a4e3e-2a20-46bf-9106-910b33df7c80",
   "metadata": {},
   "outputs": [
    {
     "name": "stdout",
     "output_type": "stream",
     "text": [
      "[[1 2 3]\n",
      " [4 5 6]\n",
      " [7 8 9]]\n"
     ]
    }
   ],
   "source": [
    "# 2차원 위치 인덱싱\n",
    "ndarray1 = np.arange(start=1, stop=10)\n",
    "ndarray1\n",
    "ndarray3 = ndarray1.reshape((3,-1))\n",
    "ndarray2 = ndarray1.reshape((-1,3))\n",
    "print(ndarray2)\n",
    "# print(ndarray3)\n",
    "# print(ndarray3.shape)\n",
    "# print(ndarray3[1,0])\n",
    "# print(ndarray3[1,1])\n"
   ]
  },
  {
   "cell_type": "code",
   "execution_count": 107,
   "id": "c49008c0-515c-46c1-8485-20f18ac3748d",
   "metadata": {},
   "outputs": [
    {
     "name": "stdout",
     "output_type": "stream",
     "text": [
      "[2 4 6]\n",
      "[2 4 6] 8\n"
     ]
    }
   ],
   "source": [
    "# 1차원 슬라이싱 : 시작 위치와 종료 위치에 해당하는 ndarray 추출\n",
    "ndarray1 = np.arange(start=2, stop=10, step=2)\n",
    "print(ndarray1[:3])\n",
    "print(ndarray1[:-1], ndarray1[-1]) # 중요!!"
   ]
  },
  {
   "cell_type": "code",
   "execution_count": 119,
   "id": "02f4321f-146a-4252-b12e-9a0ed40d3e83",
   "metadata": {},
   "outputs": [
    {
     "name": "stdout",
     "output_type": "stream",
     "text": [
      "[ 1  2  3  4  5  6  7  8  9 10 11 12 13 14 15 16 17 18 19 20 21 22 23 24\n",
      " 25 26 27]\n",
      "==============================\n",
      "[[ 1  2  3]\n",
      " [ 4  5  6]\n",
      " [ 7  8  9]\n",
      " [10 11 12]\n",
      " [13 14 15]\n",
      " [16 17 18]\n",
      " [19 20 21]\n",
      " [22 23 24]\n",
      " [25 26 27]]\n",
      "[[1 2]\n",
      " [4 5]\n",
      " [7 8]]\n",
      "[[27 26 25]\n",
      " [24 23 22]\n",
      " [21 20 19]\n",
      " [18 17 16]\n",
      " [15 14 13]\n",
      " [12 11 10]\n",
      " [ 9  8  7]\n",
      " [ 6  5  4]\n",
      " [ 3  2  1]]\n"
     ]
    }
   ],
   "source": [
    "# 2차원 슬라이싱\n",
    "ndarray1 = np.arange(start=1, stop=28)\n",
    "print(ndarray1)\n",
    "print(\"=\"*30)\n",
    "ndarray2 = ndarray1.reshape((-1,3))\n",
    "print(ndarray2)\n",
    "# ndarray1.reshape((3,-1))\n",
    "print(ndarray2[:3,:2])\n",
    "print(ndarray2[::-1, ::-1])"
   ]
  },
  {
   "cell_type": "code",
   "execution_count": 145,
   "id": "30a20b30-a26d-4eb3-8988-c04afd661523",
   "metadata": {},
   "outputs": [
    {
     "name": "stdout",
     "output_type": "stream",
     "text": [
      "[[ 1  2  3  4  5]\n",
      " [ 6  7  8  9 10]\n",
      " [11 12 13 14 15]\n",
      " [16 17 18 19 20]]\n",
      "==============================\n",
      "[[ 3  4  5]\n",
      " [ 8  9 10]\n",
      " [18 19 20]]\n"
     ]
    }
   ],
   "source": [
    "# 팬시 인덱싱(Fancy Indexing) : list를 전달해서 한 번에 여러 요소를 추출한다.\n",
    "\n",
    "ndarray1 = np.arange(start=1, stop=21)\n",
    "ndarray2 = ndarray1.reshape((4, -1))\n",
    "print(ndarray2)\n",
    "print(\"=\"*30)\n",
    "ndarray3 = ndarray2[[0,1,3], 2:5]\n",
    "print(ndarray3)"
   ]
  },
  {
   "cell_type": "code",
   "execution_count": 126,
   "id": "78941067-affb-40f8-ad84-adb0644c7408",
   "metadata": {},
   "outputs": [
    {
     "data": {
      "text/plain": [
       "array([ 10,  25,  40,  55,  70,  85, 100])"
      ]
     },
     "execution_count": 126,
     "metadata": {},
     "output_type": "execute_result"
    }
   ],
   "source": [
    "# 불린 인덱싱(Boolean Indexing) : True인 위치의 ndarray 추출 \n",
    "\n",
    "ndarray1 = np.arange(start=1, stop=101, step=3)\n",
    "ndarray1[ndarray1 % 5 == 0]"
   ]
  },
  {
   "cell_type": "markdown",
   "id": "07b981b1-1804-4ed6-9432-8e0a734eb45e",
   "metadata": {},
   "source": [
    "#### Sorting\n",
    "- 모두 오름차순 정렬이며, 내림차순은 오름차순 정렬 후 [::-1]을 붙여 사용한다."
   ]
  },
  {
   "cell_type": "code",
   "execution_count": 128,
   "id": "06589509-c4a3-41f0-a1ca-fc83ae15efb6",
   "metadata": {},
   "outputs": [
    {
     "name": "stdout",
     "output_type": "stream",
     "text": [
      "원본배열 : [0 4 2 5]\n",
      "오름차순으로 정렬된 배열 : [0 2 4 5]\n",
      "내림차순으로 정렬된 배열 : [5 4 2 0]\n"
     ]
    }
   ],
   "source": [
    "# np.sort(ndarray)\n",
    "original_ndarray = np.array([0,4,2,5])\n",
    "sorted_ndarray = np.sort(original_ndarray)\n",
    "print(f'원본배열 : {original_ndarray}')\n",
    "print(f'오름차순으로 정렬된 배열 : {sorted_ndarray}')\n",
    "print(f'내림차순으로 정렬된 배열 : {sorted_ndarray[::-1]}')"
   ]
  },
  {
   "cell_type": "code",
   "execution_count": 138,
   "id": "c09c7926-85c5-4c53-828e-8268fdfc0274",
   "metadata": {},
   "outputs": [
    {
     "name": "stdout",
     "output_type": "stream",
     "text": [
      "원본\n",
      "[[20 18 16 14 12]\n",
      " [10  8  6  4  2]]\n",
      "axis=0 정렬\n",
      "[[10  8  6  4  2]\n",
      " [20 18 16 14 12]]\n",
      "axis=1 정렬\n",
      "[[12 14 16 18 20]\n",
      " [ 2  4  6  8 10]]\n"
     ]
    }
   ],
   "source": [
    "#np.sort(ndarray, axis=n)\n",
    "\n",
    "ndarray1 = np.array([i for i in range(20,0,-2)])\n",
    "ndarray2 = ndarray1.reshape((2,-1))\n",
    "print(f'원본\\n{ndarray2}')\n",
    "sorted_ndarray_axis0 = np.sort(ndarray2, axis=0) # 방향을 봐야함! 행-> 위에서 아래 , 열 -> 왼쪽에서 오른쪽 \n",
    "# axis가 0이면 행끼리 정렬\n",
    "print(f\"axis=0 정렬\\n{sorted_ndarray_axis0}\")\n",
    "sorted_ndarray_axis1 = np.sort(ndarray2, axis=1)\n",
    "print(f\"axis=1 정렬\\n{sorted_ndarray_axis1}\")"
   ]
  },
  {
   "cell_type": "code",
   "execution_count": 141,
   "id": "46830ce5-d74f-4d4e-8a92-018316162ef5",
   "metadata": {},
   "outputs": [
    {
     "name": "stdout",
     "output_type": "stream",
     "text": [
      "정렬 후 원본 인덱스 : [0 2 1 3]\n",
      "오름차순으로 정렬된 ndarray : [0 2 3 6]\n"
     ]
    }
   ],
   "source": [
    "# np.argsort(ndarray)\n",
    "\n",
    "original_ndarray = np.array([0, 3, 2, 6])\n",
    "sorted_indices = np.argsort(original_ndarray)\n",
    "print(f\"정렬 후 원본 인덱스 : {sorted_indices}\")\n",
    "\n",
    "sorted_ndarray = original_ndarray[sorted_indices]\n",
    "print(f\"오름차순으로 정렬된 ndarray : {sorted_ndarray}\")"
   ]
  },
  {
   "cell_type": "code",
   "execution_count": 144,
   "id": "c60edbf5-255c-431e-bb8e-1a8c4aa9f739",
   "metadata": {},
   "outputs": [
    {
     "name": "stdout",
     "output_type": "stream",
     "text": [
      "[0 1 3 2 4]\n",
      "[ 2.8  2.9  3.7  5.2 13.5]\n",
      "['Lamborghini' 'Mclaren' 'Bentley' 'Benz' 'The New Morning']\n"
     ]
    }
   ],
   "source": [
    "cars = np.array(['Lamborghini', 'Mclaren', 'Benz', 'Bentley', 'The New Morning'])\n",
    "zero100 = np.array([2.8, 2.9, 5.2, 3.7, 13.5])\n",
    "\n",
    "zero100_indices = np.argsort(zero100) # 정렬 후 zero100의 원본 인덱스\n",
    "print(zero100_indices)\n",
    "sorted_zero100 = zero100[zero100_indices] # 오름차순 정렬된 zero100 indices\n",
    "print(sorted_zero100)\n",
    "\n",
    "# 제로백이 빠른 순으로 자동차 이름 정렬하기\n",
    "print(cars[zero100_indices])"
   ]
  },
  {
   "cell_type": "markdown",
   "id": "789aaa7e-b0b1-4ab7-9543-ac36c16b8ebc",
   "metadata": {},
   "source": [
    "### 벡터\n",
    "- 데이터 과학에서 벡터란 숫자 자료를 나열한 것을 의미한다.\n",
    "- 벡터는 공간에서 한 점을 나타낸다.\n",
    "- feature 1개당 1차원이고, feature가 3개면 3차원이다.\n",
    "- 이때, 1차원 좌표평면에서는 열벡터를 표현할 수 있으며, 2차원 좌표평면에서는 2열 데이터를 표현할 수 있게 된다."
   ]
  },
  {
   "cell_type": "markdown",
   "id": "5300091e-6594-4a33-92c2-35a9c39b68b1",
   "metadata": {},
   "source": [
    "#### 내적 (Dot product)\n",
    "- 두 벡터의 성분들의 곱의 합\n",
    "\n",
    "<img src=\"./images/dot_product.png\" width=\"500px\" style=\"margin-left:0;\">"
   ]
  },
  {
   "cell_type": "markdown",
   "id": "8b67f812-83e4-47eb-a431-4a0e9e1763c3",
   "metadata": {},
   "source": [
    "#### 선형대수 (Linear Algebra)\n",
    "- 선형 방정식을 풀기 위해서 배우는 학문이다.\n",
    "- 4x = 16일 경우 ,좌항의 4를 우항으로 넘겨서 x라는 것을 구할 수 있고,\n",
    "  방정식 1개만으로 해를 구할 수 있다.\n",
    "- y = 2x + 5일 경우, 미지수가 2개이기 때문에, 방정식이 2개 필요하다.\n",
    "- 이러한 연립 방정식을 표현할 때, 쉽게 표현하기 위해 선형 대수를 배운다."
   ]
  },
  {
   "cell_type": "code",
   "execution_count": 7,
   "id": "09a02a01-18ca-4f4a-b03c-dc858707ff5b",
   "metadata": {},
   "outputs": [
    {
     "name": "stdout",
     "output_type": "stream",
     "text": [
      "내적=[[17]\n",
      " [39]]\n",
      "\n",
      "[[1 2]\n",
      " [3 4]]\n",
      "[[5]\n",
      " [6]]\n",
      "[[ 5 10]\n",
      " [18 24]]\n"
     ]
    }
   ],
   "source": [
    "import numpy as np\n",
    "A = np.array([1,2,3,4]).reshape((2,2))\n",
    "w = np.array([5,6]).reshape((2,1))\n",
    "k = A * w # 행렬의 곱 \n",
    "\n",
    "print(f'내적={np.dot(A,w)}\\n') # 내적 \n",
    "print(A, w, k, sep='\\n')"
   ]
  },
  {
   "cell_type": "code",
   "execution_count": 29,
   "id": "3bfa86ae-4334-4e59-b22f-00a9469613f3",
   "metadata": {},
   "outputs": [
    {
     "name": "stdout",
     "output_type": "stream",
     "text": [
      "[[8.]\n",
      " [2.]]\n",
      "2\n"
     ]
    }
   ],
   "source": [
    "# x + y = 10\n",
    "# 2x - 3y = 10\n",
    "\n",
    "# Aw = k\n",
    "A = np.array([[1,1], [2,-3]])\n",
    "k = np.array([[10,10]]).T\n",
    "w = np.dot(np.linalg.inv(A),k) # np.linalg.inv() <-- 역행렬 메소드 \n",
    "print(w)\n",
    "print(w.ndim)"
   ]
  },
  {
   "cell_type": "code",
   "execution_count": 33,
   "id": "03623bf4-676f-4b3a-8733-5b7d3ac6456a",
   "metadata": {},
   "outputs": [
    {
     "name": "stdout",
     "output_type": "stream",
     "text": [
      "[[ 8.]\n",
      " [-2.]\n",
      " [-1.]]\n"
     ]
    }
   ],
   "source": [
    "# x + 2y + 3z = 1\n",
    "# x + 2y + z = 3\n",
    "# x + 3z = 5\n",
    "\n",
    "# Aw = k\n",
    "\n",
    "A = np.array([[1, 2, 3],\n",
    "              [1, 2, 1],\n",
    "              [1, 0, 3]])\n",
    "\n",
    "k = np.array([[1, 3, 5]]).T\n",
    "\n",
    "w = np.dot(np.linalg.inv(A),k)\n",
    "print(w)"
   ]
  },
  {
   "cell_type": "markdown",
   "id": "01c0ac06-ffb9-4066-831a-e69687b3c1cb",
   "metadata": {},
   "source": [
    "#### 과결정계 (Overdetermined system)\n",
    "- 미지수보다 많은 방정식이 있는 연립 방정식으로서 보통 해가 존재하지 않는다.\n",
    "- 3차원 공간에 존재하는 2차원 평면에서 3차원 공간의 해를 구할 수 없기 때문에, 3차원을 2차원으로 축소해야 하고,\n",
    "  이때 투영이 필요하다.\n",
    "- 투영시, 원본 값에서 어느정도의 loss(손실)가/이 발생하지만 이를 감안하고 근사값을 구한다."
   ]
  },
  {
   "cell_type": "code",
   "execution_count": null,
   "id": "1deb4c3b-44d5-4d63-8f30-c4e66601db72",
   "metadata": {},
   "outputs": [],
   "source": []
  },
  {
   "cell_type": "code",
   "execution_count": null,
   "id": "7d593d6f-06f3-412c-a61a-3a6245c39fe8",
   "metadata": {},
   "outputs": [],
   "source": []
  }
 ],
 "metadata": {
  "kernelspec": {
   "display_name": "Python 3 (ipykernel)",
   "language": "python",
   "name": "python3"
  },
  "language_info": {
   "codemirror_mode": {
    "name": "ipython",
    "version": 3
   },
   "file_extension": ".py",
   "mimetype": "text/x-python",
   "name": "python",
   "nbconvert_exporter": "python",
   "pygments_lexer": "ipython3",
   "version": "3.11.8"
  }
 },
 "nbformat": 4,
 "nbformat_minor": 5
}
