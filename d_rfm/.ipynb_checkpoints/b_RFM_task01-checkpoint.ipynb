{
 "cells": [
  {
   "cell_type": "markdown",
   "id": "5204a400-2240-43b3-b7f3-61db3a8acf50",
   "metadata": {},
   "source": [
    "### RFM 분석 실습\n",
    "- Recency: 얼마나 최근에 구매했는가\n",
    "- Frequency: 얼마나 자주 구매했는가\n",
    "- Monetary: 얼마나 많은 금액을 지출했는가"
   ]
  }
 ],
 "metadata": {
  "kernelspec": {
   "display_name": "Python 3 (ipykernel)",
   "language": "python",
   "name": "python3"
  },
  "language_info": {
   "codemirror_mode": {
    "name": "ipython",
    "version": 3
   },
   "file_extension": ".py",
   "mimetype": "text/x-python",
   "name": "python",
   "nbconvert_exporter": "python",
   "pygments_lexer": "ipython3",
   "version": "3.11.8"
  }
 },
 "nbformat": 4,
 "nbformat_minor": 5
}
